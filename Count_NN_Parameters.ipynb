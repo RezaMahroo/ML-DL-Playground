{
  "nbformat": 4,
  "nbformat_minor": 0,
  "metadata": {
    "colab": {
      "provenance": [],
      "authorship_tag": "ABX9TyM6VLPk5utNpMjI6MnRS5mD"
    },
    "kernelspec": {
      "name": "python3",
      "display_name": "Python 3"
    },
    "language_info": {
      "name": "python"
    }
  },
  "cells": [
    {
      "cell_type": "code",
      "source": [
        "import numpy as np\n",
        "import torch\n",
        "import torch.nn as nn"
      ],
      "metadata": {
        "id": "xe6iz_VA78H3"
      },
      "execution_count": 16,
      "outputs": []
    },
    {
      "cell_type": "code",
      "source": [
        "# Define two models to compare the number of parameters\n",
        "widenet = nn.Sequential(\n",
        "    nn.Linear(6, 10),  # Hidden layer\n",
        "    nn.Linear(10, 4)   # Output layer\n",
        ")\n",
        "\n",
        "deepnet = nn.Sequential(\n",
        "    nn.Linear(6, 8),  # Hidden layer\n",
        "    nn.Linear(8, 6),  # Hidden layer\n",
        "    nn.Linear(6, 4)   # Output layer\n",
        ")\n",
        "# Print the models to inspect their structure\n",
        "print(widenet)\n",
        "print('\\n')\n",
        "print(deepnet)"
      ],
      "metadata": {
        "colab": {
          "base_uri": "https://localhost:8080/"
        },
        "id": "R2htafB5SdUI",
        "outputId": "ad732675-5001-4e20-a60e-1c343de2af8d"
      },
      "execution_count": 26,
      "outputs": [
        {
          "output_type": "stream",
          "name": "stdout",
          "text": [
            "Sequential(\n",
            "  (0): Linear(in_features=6, out_features=10, bias=True)\n",
            "  (1): Linear(in_features=10, out_features=4, bias=True)\n",
            ")\n",
            "\n",
            "\n",
            "Sequential(\n",
            "  (0): Linear(in_features=6, out_features=8, bias=True)\n",
            "  (1): Linear(in_features=8, out_features=6, bias=True)\n",
            "  (2): Linear(in_features=6, out_features=4, bias=True)\n",
            ")\n"
          ]
        }
      ]
    },
    {
      "cell_type": "code",
      "source": [
        "# Count the number of biases (nodes) in the wide network\n",
        "numNodesInWide = sum(p.numel() for p in widenet.parameters() if p.requires_grad)\n",
        "\n",
        "# Count the number of biases (nodes) in the deep network\n",
        "numNodesInDeep = sum(p.numel() for p in deepnet.parameters() if p.requires_grad)\n",
        "\n",
        "print('There are %s nodes in the wide network.' % numNodesInWide)\n",
        "print('There are %s nodes in the deep network.' % numNodesInDeep)"
      ],
      "metadata": {
        "colab": {
          "base_uri": "https://localhost:8080/"
        },
        "id": "jwkRV_O9SdlD",
        "outputId": "c35c1c0e-b661-4bf2-de9a-0dacdea01b84"
      },
      "execution_count": 27,
      "outputs": [
        {
          "output_type": "stream",
          "name": "stdout",
          "text": [
            "There are 114 nodes in the wide network.\n",
            "There are 138 nodes in the deep network.\n"
          ]
        }
      ]
    },
    {
      "cell_type": "code",
      "source": [
        "# Print the parameters of the wide network\n",
        "for name, param in widenet.named_parameters():\n",
        "    print(name, param)"
      ],
      "metadata": {
        "colab": {
          "base_uri": "https://localhost:8080/"
        },
        "id": "Zi200c0FSdoW",
        "outputId": "ae51eea5-ca93-4795-d475-e65c2b4da65e"
      },
      "execution_count": 28,
      "outputs": [
        {
          "output_type": "stream",
          "name": "stdout",
          "text": [
            "0.weight Parameter containing:\n",
            "tensor([[ 0.3617,  0.0190,  0.0511,  0.1237, -0.0405, -0.1512],\n",
            "        [-0.0906, -0.1181,  0.2420,  0.2817,  0.3622,  0.0441],\n",
            "        [-0.4007,  0.0491,  0.3492,  0.0062, -0.1736, -0.1652],\n",
            "        [ 0.0647,  0.3880, -0.2943, -0.3545, -0.0525,  0.1718],\n",
            "        [-0.1505,  0.0195,  0.1825,  0.3658,  0.2103,  0.2748],\n",
            "        [-0.1087,  0.4016,  0.0731,  0.1401, -0.0723,  0.0038],\n",
            "        [ 0.1771, -0.3969, -0.3625, -0.0867,  0.0092, -0.2916],\n",
            "        [ 0.3182, -0.2620, -0.2798, -0.2757, -0.1379, -0.1063],\n",
            "        [-0.0224,  0.0034,  0.3558, -0.1499,  0.3684,  0.0063],\n",
            "        [ 0.4018, -0.3360,  0.1765,  0.2499,  0.1631, -0.2423]],\n",
            "       requires_grad=True)\n",
            "0.bias Parameter containing:\n",
            "tensor([-0.1024,  0.3655, -0.0129, -0.3152,  0.2717,  0.1233, -0.0327, -0.0045,\n",
            "        -0.1086,  0.2348], requires_grad=True)\n",
            "1.weight Parameter containing:\n",
            "tensor([[-1.4077e-01,  2.0826e-01, -1.7282e-01, -1.9528e-01,  2.4538e-01,\n",
            "         -1.8342e-01,  1.0808e-03,  2.9097e-01,  8.8889e-02, -9.4099e-02],\n",
            "        [ 1.9546e-02,  1.4195e-01, -7.2914e-02, -2.9287e-01, -1.0902e-01,\n",
            "          8.4851e-03,  1.9773e-01,  1.9233e-01, -1.7579e-01,  1.0376e-01],\n",
            "        [-2.1558e-01,  1.7265e-01,  1.8999e-04,  1.0168e-01, -1.4377e-01,\n",
            "         -2.7880e-01,  7.0743e-02, -2.3108e-01,  1.8937e-01,  1.8903e-01],\n",
            "        [ 2.4443e-01, -2.3935e-01, -1.5399e-01, -2.9755e-01,  1.9521e-01,\n",
            "         -1.2700e-02,  1.3700e-01, -1.8791e-01, -1.6382e-01,  2.5529e-01]],\n",
            "       requires_grad=True)\n",
            "1.bias Parameter containing:\n",
            "tensor([ 0.0855, -0.0393,  0.1888, -0.0363], requires_grad=True)\n"
          ]
        }
      ]
    },
    {
      "cell_type": "code",
      "source": [
        "# Print the parameters of the wide network\n",
        "for name, param in deepnet.named_parameters():\n",
        "    print(name, param)"
      ],
      "metadata": {
        "colab": {
          "base_uri": "https://localhost:8080/"
        },
        "id": "HmbBOhSUS2Gh",
        "outputId": "c7473589-0dd3-401f-a05f-bf5cb0e67198"
      },
      "execution_count": 29,
      "outputs": [
        {
          "output_type": "stream",
          "name": "stdout",
          "text": [
            "0.weight Parameter containing:\n",
            "tensor([[-0.1918, -0.0190,  0.0625, -0.0880,  0.0681,  0.1938],\n",
            "        [ 0.1927, -0.2761,  0.2764,  0.0564, -0.0566,  0.0436],\n",
            "        [ 0.0438,  0.2571, -0.1932, -0.1191,  0.3540, -0.0059],\n",
            "        [ 0.2446,  0.0856, -0.1290, -0.2660, -0.1106, -0.1092],\n",
            "        [ 0.3321, -0.3976,  0.0893,  0.0338, -0.3517, -0.3642],\n",
            "        [-0.1111,  0.0355, -0.1798, -0.2871, -0.3330, -0.1848],\n",
            "        [-0.1086,  0.2165,  0.3698, -0.2812,  0.3744,  0.0384],\n",
            "        [ 0.2973, -0.2562,  0.0520, -0.0010,  0.3618,  0.2814]],\n",
            "       requires_grad=True)\n",
            "0.bias Parameter containing:\n",
            "tensor([-0.2975, -0.3674, -0.3556, -0.0107, -0.0246, -0.0125,  0.3245,  0.1049],\n",
            "       requires_grad=True)\n",
            "1.weight Parameter containing:\n",
            "tensor([[-0.2180, -0.1562,  0.3264, -0.1760,  0.2553, -0.2047,  0.0274, -0.2684],\n",
            "        [-0.1740,  0.1235, -0.0850, -0.1184,  0.3088,  0.0992,  0.1018,  0.1520],\n",
            "        [-0.3200,  0.1623, -0.0667, -0.1419, -0.3287,  0.3516, -0.2363, -0.0400],\n",
            "        [ 0.0891, -0.1596, -0.3371,  0.1308, -0.0330,  0.3267, -0.2863,  0.1680],\n",
            "        [ 0.0441,  0.3351,  0.3242, -0.0134, -0.2026, -0.2198,  0.0923,  0.2680],\n",
            "        [ 0.1120, -0.2471, -0.3456,  0.3269, -0.0650,  0.1907,  0.0605, -0.1706]],\n",
            "       requires_grad=True)\n",
            "1.bias Parameter containing:\n",
            "tensor([ 0.3101, -0.3379,  0.3160,  0.0690,  0.2775, -0.1395],\n",
            "       requires_grad=True)\n",
            "2.weight Parameter containing:\n",
            "tensor([[-0.3539, -0.1899,  0.2518, -0.2509, -0.1060,  0.1833],\n",
            "        [ 0.2793, -0.3755, -0.3941,  0.0042,  0.2803,  0.0903],\n",
            "        [-0.1752,  0.0084,  0.1276,  0.3339,  0.2387,  0.1081],\n",
            "        [-0.0182, -0.2082, -0.0871,  0.1104,  0.0082,  0.3991]],\n",
            "       requires_grad=True)\n",
            "2.bias Parameter containing:\n",
            "tensor([-0.3936, -0.0408,  0.1968,  0.1098], requires_grad=True)\n"
          ]
        }
      ]
    },
    {
      "cell_type": "code",
      "source": [
        "# Count the total number of trainable parameters in the wide network\n",
        "nparams = sum(p.numel() for p in widenet.parameters() if p.requires_grad)\n",
        "print('\\nTotal number of parameters in the wide network: %s' % nparams)\n",
        "\n",
        "# Count the total number of trainable parameters in the deep network\n",
        "nparams = sum(p.numel() for p in deepnet.parameters() if p.requires_grad)\n",
        "print('Total number of parameters in the deep network: %s' % nparams)"
      ],
      "metadata": {
        "colab": {
          "base_uri": "https://localhost:8080/"
        },
        "id": "ce4hFbNhSdrX",
        "outputId": "c3dd872b-da14-4680-8a67-59dd873520b6"
      },
      "execution_count": 30,
      "outputs": [
        {
          "output_type": "stream",
          "name": "stdout",
          "text": [
            "\n",
            "Total number of parameters in the wide network: 114\n",
            "Total number of parameters in the deep network: 138\n"
          ]
        }
      ]
    }
  ]
}