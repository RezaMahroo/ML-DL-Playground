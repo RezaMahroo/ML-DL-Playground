{
 "cells": [
  {
   "cell_type": "code",
   "execution_count": 1,
   "metadata": {},
   "outputs": [],
   "source": [
    "import numpy as np\n",
    "import pandas as pd\n",
    "import matplotlib.pyplot as plt\n",
    "import seaborn as sb\n",
    "from sklearn import metrics\n",
    "from sklearn import datasets\n",
    "import seaborn as sn\n",
    "\n",
    "import tensorflow as tf\n",
    "from tensorflow import keras\n",
    "\n",
    "digits = datasets.load_digits()"
   ]
  },
  {
   "cell_type": "code",
   "execution_count": 2,
   "metadata": {},
   "outputs": [
    {
     "data": {
      "text/plain": [
       "(1797, 64)"
      ]
     },
     "execution_count": 2,
     "metadata": {},
     "output_type": "execute_result"
    }
   ],
   "source": [
    "digits.data.shape"
   ]
  },
  {
   "cell_type": "markdown",
   "metadata": {},
   "source": [
    "# Dataset exploration:"
   ]
  },
  {
   "cell_type": "code",
   "execution_count": 3,
   "metadata": {},
   "outputs": [
    {
     "name": "stdout",
     "output_type": "stream",
     "text": [
      "dict_keys(['data', 'target', 'frame', 'feature_names', 'target_names', 'images', 'DESCR']) \n",
      "\n"
     ]
    }
   ],
   "source": [
    "print(digits.keys(), '\\n')"
   ]
  },
  {
   "cell_type": "code",
   "execution_count": 4,
   "metadata": {},
   "outputs": [
    {
     "name": "stdout",
     "output_type": "stream",
     "text": [
      "digits target names are: \n",
      " [0 1 2 3 4 5 6 7 8 9]\n"
     ]
    }
   ],
   "source": [
    "print('digits target names are:', '\\n', digits.target_names)"
   ]
  },
  {
   "cell_type": "code",
   "execution_count": 5,
   "metadata": {},
   "outputs": [
    {
     "data": {
      "image/png": "[encoded data removed]",
      "text/plain": [
       "<Figure size 576x576 with 100 Axes>"
      ]
     },
     "metadata": {
      "needs_background": "light"
     },
     "output_type": "display_data"
    }
   ],
   "source": [
    "import matplotlib.pyplot as plt\n",
    "\n",
    "fig, axs = plt.subplots(nrows=10, ncols=10, figsize=(8, 8))\n",
    "for idx, ax in enumerate(axs.ravel()):\n",
    "    ax.imshow(digits.images[idx].reshape((8, 8)), cmap=plt.cm.binary)\n",
    "    ax.axis(\"off\")\n",
    "_ = fig.suptitle(\"A selection from the 64-dimensional digits dataset\", fontsize=16)"
   ]
  },
  {
   "cell_type": "markdown",
   "metadata": {},
   "source": [
    "# Train and Test"
   ]
  },
  {
   "cell_type": "code",
   "execution_count": 6,
   "metadata": {},
   "outputs": [],
   "source": [
    "X, y = digits.data, digits.target\n",
    "\n",
    "from sklearn.model_selection import train_test_split\n",
    "X_train, X_test, y_train, y_test = train_test_split(X, y, test_size=0.2, random_state=123, stratify=y)"
   ]
  },
  {
   "cell_type": "markdown",
   "metadata": {},
   "source": [
    "## Simple Neural Network:"
   ]
  },
  {
   "cell_type": "code",
   "execution_count": 7,
   "metadata": {},
   "outputs": [
    {
     "name": "stdout",
     "output_type": "stream",
     "text": [
      "Train on 1437 samples, validate on 360 samples\n",
      "Epoch 1/50\n",
      "1437/1437 [==============================] - 1s 501us/sample - loss: 2.0840 - accuracy: 0.2505 - val_loss: 1.8918 - val_accuracy: 0.4028\n",
      "Epoch 2/50\n",
      "1437/1437 [==============================] - 0s 63us/sample - loss: 1.7758 - accuracy: 0.5233 - val_loss: 1.6327 - val_accuracy: 0.6778\n",
      "Epoch 3/50\n",
      "1437/1437 [==============================] - 0s 101us/sample - loss: 1.5183 - accuracy: 0.7209 - val_loss: 1.3851 - val_accuracy: 0.7694\n",
      "Epoch 4/50\n",
      "1437/1437 [==============================] - 0s 94us/sample - loss: 1.2773 - accuracy: 0.8093 - val_loss: 1.1668 - val_accuracy: 0.8278\n",
      "Epoch 5/50\n",
      "1437/1437 [==============================] - 0s 94us/sample - loss: 1.0717 - accuracy: 0.8671 - val_loss: 0.9826 - val_accuracy: 0.8611\n",
      "Epoch 6/50\n",
      "1437/1437 [==============================] - 0s 92us/sample - loss: 0.8960 - accuracy: 0.8859 - val_loss: 0.8294 - val_accuracy: 0.8694\n",
      "Epoch 7/50\n",
      "1437/1437 [==============================] - 0s 74us/sample - loss: 0.7531 - accuracy: 0.9019 - val_loss: 0.6966 - val_accuracy: 0.8944\n",
      "Epoch 8/50\n",
      "1437/1437 [==============================] - 0s 75us/sample - loss: 0.6395 - accuracy: 0.9123 - val_loss: 0.5967 - val_accuracy: 0.9111\n",
      "Epoch 9/50\n",
      "1437/1437 [==============================] - 0s 73us/sample - loss: 0.5441 - accuracy: 0.9235 - val_loss: 0.5199 - val_accuracy: 0.9194\n",
      "Epoch 10/50\n",
      "1437/1437 [==============================] - 0s 53us/sample - loss: 0.4712 - accuracy: 0.9318 - val_loss: 0.4580 - val_accuracy: 0.9417\n",
      "Epoch 11/50\n",
      "1437/1437 [==============================] - 0s 38us/sample - loss: 0.4096 - accuracy: 0.9374 - val_loss: 0.3999 - val_accuracy: 0.9417\n",
      "Epoch 12/50\n",
      "1437/1437 [==============================] - 0s 37us/sample - loss: 0.3596 - accuracy: 0.9450 - val_loss: 0.3650 - val_accuracy: 0.9444\n",
      "Epoch 13/50\n",
      "1437/1437 [==============================] - 0s 37us/sample - loss: 0.3192 - accuracy: 0.9499 - val_loss: 0.3290 - val_accuracy: 0.9500\n",
      "Epoch 14/50\n",
      "1437/1437 [==============================] - 0s 37us/sample - loss: 0.2831 - accuracy: 0.9520 - val_loss: 0.3090 - val_accuracy: 0.9361\n",
      "Epoch 15/50\n",
      "1437/1437 [==============================] - 0s 37us/sample - loss: 0.2543 - accuracy: 0.9569 - val_loss: 0.2788 - val_accuracy: 0.9444\n",
      "Epoch 16/50\n",
      "1437/1437 [==============================] - 0s 37us/sample - loss: 0.2299 - accuracy: 0.9582 - val_loss: 0.2596 - val_accuracy: 0.9444\n",
      "Epoch 17/50\n",
      "1437/1437 [==============================] - 0s 37us/sample - loss: 0.2091 - accuracy: 0.9673 - val_loss: 0.2471 - val_accuracy: 0.9500\n",
      "Epoch 18/50\n",
      "1437/1437 [==============================] - 0s 37us/sample - loss: 0.1890 - accuracy: 0.9631 - val_loss: 0.2214 - val_accuracy: 0.9611\n",
      "Epoch 19/50\n",
      "1437/1437 [==============================] - 0s 37us/sample - loss: 0.1720 - accuracy: 0.9736 - val_loss: 0.2075 - val_accuracy: 0.9611\n",
      "Epoch 20/50\n",
      "1437/1437 [==============================] - 0s 37us/sample - loss: 0.1579 - accuracy: 0.9708 - val_loss: 0.1985 - val_accuracy: 0.9556\n",
      "Epoch 21/50\n",
      "1437/1437 [==============================] - 0s 37us/sample - loss: 0.1448 - accuracy: 0.9805 - val_loss: 0.1861 - val_accuracy: 0.9528\n",
      "Epoch 22/50\n",
      "1437/1437 [==============================] - 0s 38us/sample - loss: 0.1330 - accuracy: 0.9805 - val_loss: 0.1780 - val_accuracy: 0.9611\n",
      "Epoch 23/50\n",
      "1437/1437 [==============================] - 0s 39us/sample - loss: 0.1225 - accuracy: 0.9805 - val_loss: 0.1693 - val_accuracy: 0.9639\n",
      "Epoch 24/50\n",
      "1437/1437 [==============================] - 0s 38us/sample - loss: 0.1126 - accuracy: 0.9812 - val_loss: 0.1636 - val_accuracy: 0.9583\n",
      "Epoch 25/50\n",
      "1437/1437 [==============================] - 0s 38us/sample - loss: 0.1050 - accuracy: 0.9854 - val_loss: 0.1554 - val_accuracy: 0.9583\n",
      "Epoch 26/50\n",
      "1437/1437 [==============================] - 0s 38us/sample - loss: 0.0980 - accuracy: 0.9861 - val_loss: 0.1475 - val_accuracy: 0.9583\n",
      "Epoch 27/50\n",
      "1437/1437 [==============================] - 0s 38us/sample - loss: 0.0903 - accuracy: 0.9861 - val_loss: 0.1511 - val_accuracy: 0.9611\n",
      "Epoch 28/50\n",
      "1437/1437 [==============================] - 0s 38us/sample - loss: 0.0845 - accuracy: 0.9875 - val_loss: 0.1423 - val_accuracy: 0.9583\n",
      "Epoch 29/50\n",
      "1437/1437 [==============================] - 0s 38us/sample - loss: 0.0795 - accuracy: 0.9875 - val_loss: 0.1311 - val_accuracy: 0.9611\n",
      "Epoch 30/50\n",
      "1437/1437 [==============================] - 0s 37us/sample - loss: 0.0739 - accuracy: 0.9889 - val_loss: 0.1342 - val_accuracy: 0.9639\n",
      "Epoch 31/50\n",
      "1437/1437 [==============================] - 0s 38us/sample - loss: 0.0684 - accuracy: 0.9903 - val_loss: 0.1223 - val_accuracy: 0.9639\n",
      "Epoch 32/50\n",
      "1437/1437 [==============================] - 0s 38us/sample - loss: 0.0644 - accuracy: 0.9916 - val_loss: 0.1206 - val_accuracy: 0.9667\n",
      "Epoch 33/50\n",
      "1437/1437 [==============================] - 0s 38us/sample - loss: 0.0603 - accuracy: 0.9923 - val_loss: 0.1219 - val_accuracy: 0.9694\n",
      "Epoch 34/50\n",
      "1437/1437 [==============================] - 0s 38us/sample - loss: 0.0567 - accuracy: 0.9903 - val_loss: 0.1111 - val_accuracy: 0.9667\n",
      "Epoch 35/50\n",
      "1437/1437 [==============================] - 0s 38us/sample - loss: 0.0529 - accuracy: 0.9910 - val_loss: 0.1000 - val_accuracy: 0.9694\n",
      "Epoch 36/50\n",
      "1437/1437 [==============================] - 0s 38us/sample - loss: 0.0496 - accuracy: 0.9944 - val_loss: 0.1096 - val_accuracy: 0.9750\n",
      "Epoch 37/50\n",
      "1437/1437 [==============================] - 0s 38us/sample - loss: 0.0460 - accuracy: 0.9951 - val_loss: 0.1072 - val_accuracy: 0.9611\n",
      "Epoch 38/50\n",
      "1437/1437 [==============================] - 0s 38us/sample - loss: 0.0435 - accuracy: 0.9944 - val_loss: 0.1046 - val_accuracy: 0.9667\n",
      "Epoch 39/50\n",
      "1437/1437 [==============================] - 0s 37us/sample - loss: 0.0409 - accuracy: 0.9951 - val_loss: 0.1028 - val_accuracy: 0.9667\n",
      "Epoch 40/50\n",
      "1437/1437 [==============================] - 0s 38us/sample - loss: 0.0386 - accuracy: 0.9958 - val_loss: 0.0944 - val_accuracy: 0.9750\n",
      "Epoch 41/50\n",
      "1437/1437 [==============================] - 0s 38us/sample - loss: 0.0352 - accuracy: 0.9972 - val_loss: 0.0932 - val_accuracy: 0.9667\n",
      "Epoch 42/50\n",
      "1437/1437 [==============================] - 0s 38us/sample - loss: 0.0334 - accuracy: 0.9979 - val_loss: 0.0915 - val_accuracy: 0.9694\n",
      "Epoch 43/50\n",
      "1437/1437 [==============================] - 0s 38us/sample - loss: 0.0317 - accuracy: 0.9979 - val_loss: 0.0937 - val_accuracy: 0.9667\n",
      "Epoch 44/50\n",
      "1437/1437 [==============================] - 0s 38us/sample - loss: 0.0292 - accuracy: 0.9979 - val_loss: 0.0815 - val_accuracy: 0.9722\n",
      "Epoch 45/50\n",
      "1437/1437 [==============================] - 0s 36us/sample - loss: 0.0283 - accuracy: 0.9986 - val_loss: 0.0871 - val_accuracy: 0.9694\n",
      "Epoch 46/50\n",
      "1437/1437 [==============================] - 0s 37us/sample - loss: 0.0262 - accuracy: 0.9986 - val_loss: 0.0857 - val_accuracy: 0.9722\n",
      "Epoch 47/50\n",
      "1437/1437 [==============================] - 0s 37us/sample - loss: 0.0241 - accuracy: 0.9986 - val_loss: 0.0943 - val_accuracy: 0.9722\n",
      "Epoch 48/50\n",
      "1437/1437 [==============================] - 0s 37us/sample - loss: 0.0232 - accuracy: 0.9986 - val_loss: 0.0809 - val_accuracy: 0.9722\n",
      "Epoch 49/50\n",
      "1437/1437 [==============================] - 0s 38us/sample - loss: 0.0219 - accuracy: 0.9986 - val_loss: 0.0881 - val_accuracy: 0.9694\n",
      "Epoch 50/50\n",
      "1437/1437 [==============================] - 0s 38us/sample - loss: 0.0206 - accuracy: 0.9993 - val_loss: 0.0832 - val_accuracy: 0.9750\n"
     ]
    }
   ],
   "source": [
    "model1 = keras.Sequential([\n",
    "    keras.layers.Dense(32, input_shape=(64,), activation='tanh', kernel_regularizer=None), \n",
    "    keras.layers.Dense(10, activation='sigmoid')\n",
    "])\n",
    "\n",
    "model1.compile(optimizer='rmsprop',\n",
    "              loss='sparse_categorical_crossentropy',\n",
    "              metrics=['accuracy'])\n",
    "\n",
    "hist = model1.fit(X_train, y_train, epochs=50, validation_data=(X_test, y_test))"
   ]
  },
  {
   "cell_type": "code",
   "execution_count": 8,
   "metadata": {},
   "outputs": [
    {
     "name": "stdout",
     "output_type": "stream",
     "text": [
      "360/360 [==============================] - 0s 31us/sample - loss: 0.0832 - accuracy: 0.9750\n"
     ]
    },
    {
     "data": {
      "text/plain": [
       "[0.08324853943453894, 0.975]"
      ]
     },
     "execution_count": 8,
     "metadata": {},
     "output_type": "execute_result"
    }
   ],
   "source": [
    "model1.evaluate(X_test, y_test)"
   ]
  },
  {
   "cell_type": "code",
   "execution_count": 9,
   "metadata": {},
   "outputs": [
    {
     "data": {
      "text/plain": [
       "array([5.1911356e-05, 3.5315308e-05, 1.3021072e-07, 1.8016367e-04,\n",
       "       1.4500173e-05, 1.5178682e-01, 8.5652317e-04, 9.5720964e-07,\n",
       "       7.7017874e-04, 1.9052520e-04], dtype=float32)"
      ]
     },
     "execution_count": 9,
     "metadata": {},
     "output_type": "execute_result"
    }
   ],
   "source": [
    "y_predicted = model1.predict(X_test)\n",
    "y_predicted[0]"
   ]
  },
  {
   "cell_type": "code",
   "execution_count": 10,
   "metadata": {},
   "outputs": [
    {
     "data": {
      "text/plain": [
       "5"
      ]
     },
     "execution_count": 10,
     "metadata": {},
     "output_type": "execute_result"
    }
   ],
   "source": [
    "np.argmax(y_predicted[0])"
   ]
  },
  {
   "cell_type": "code",
   "execution_count": 11,
   "metadata": {},
   "outputs": [
    {
     "data": {
      "text/plain": [
       "<tf.Tensor: shape=(10, 10), dtype=int32, numpy=\n",
       "array([[36,  0,  0,  0,  0,  0,  0,  0,  0,  0],\n",
       "       [ 0, 35,  0,  0,  0,  0,  0,  0,  1,  0],\n",
       "       [ 0,  0, 35,  0,  0,  0,  0,  0,  0,  0],\n",
       "       [ 0,  0,  0, 37,  0,  0,  0,  0,  0,  0],\n",
       "       [ 0,  0,  0,  0, 36,  0,  0,  0,  0,  0],\n",
       "       [ 0,  1,  0,  0,  1, 35,  0,  0,  0,  0],\n",
       "       [ 0,  0,  0,  0,  0,  0, 36,  0,  0,  0],\n",
       "       [ 1,  0,  0,  0,  0,  0,  0, 35,  0,  0],\n",
       "       [ 0,  2,  0,  0,  0,  0,  0,  0, 32,  1],\n",
       "       [ 0,  0,  0,  1,  0,  0,  0,  0,  1, 34]])>"
      ]
     },
     "execution_count": 11,
     "metadata": {},
     "output_type": "execute_result"
    }
   ],
   "source": [
    "y_predicted_labels = [np.argmax(i) for i in y_predicted]\n",
    "cm = tf.math.confusion_matrix(labels=y_test, predictions = y_predicted_labels)\n",
    "cm"
   ]
  },
  {
   "cell_type": "code",
   "execution_count": 12,
   "metadata": {},
   "outputs": [
    {
     "data": {
      "text/plain": [
       "Text(69.0, 0.5, 'Truth')"
      ]
     },
     "execution_count": 12,
     "metadata": {},
     "output_type": "execute_result"
    },
    {
     "data": {
      "image/png": "[encoded data removed]",
      "text/plain": [
       "<Figure size 720x504 with 2 Axes>"
      ]
     },
     "metadata": {
      "needs_background": "light"
     },
     "output_type": "display_data"
    }
   ],
   "source": [
    "plt.figure(figsize = (10,7))\n",
    "sn.heatmap(cm, annot=True, fmt='d')\n",
    "plt.xlabel('Predicted')\n",
    "plt.ylabel('Truth')"
   ]
  },
  {
   "cell_type": "markdown",
   "metadata": {},
   "source": [
    "## Multilayer Neural Network:"
   ]
  },
  {
   "cell_type": "code",
   "execution_count": 141,
   "metadata": {},
   "outputs": [
    {
     "name": "stdout",
     "output_type": "stream",
     "text": [
      "Train on 1437 samples, validate on 360 samples\n",
      "Epoch 1/50\n",
      "1437/1437 [==============================] - 0s 308us/sample - loss: 2.5093 - accuracy: 0.2582 - val_loss: 2.0432 - val_accuracy: 0.4944\n",
      "Epoch 2/50\n",
      "1437/1437 [==============================] - 0s 33us/sample - loss: 1.8605 - accuracy: 0.5484 - val_loss: 1.6428 - val_accuracy: 0.6722\n",
      "Epoch 3/50\n",
      "1437/1437 [==============================] - 0s 32us/sample - loss: 1.4934 - accuracy: 0.7244 - val_loss: 1.3320 - val_accuracy: 0.7417\n",
      "Epoch 4/50\n",
      "1437/1437 [==============================] - 0s 34us/sample - loss: 1.1948 - accuracy: 0.7996 - val_loss: 1.0610 - val_accuracy: 0.7944\n",
      "Epoch 5/50\n",
      "1437/1437 [==============================] - 0s 34us/sample - loss: 0.9389 - accuracy: 0.8532 - val_loss: 0.8479 - val_accuracy: 0.8583\n",
      "Epoch 6/50\n",
      "1437/1437 [==============================] - 0s 34us/sample - loss: 0.7533 - accuracy: 0.8859 - val_loss: 0.6854 - val_accuracy: 0.8806\n",
      "Epoch 7/50\n",
      "1437/1437 [==============================] - 0s 33us/sample - loss: 0.6191 - accuracy: 0.9047 - val_loss: 0.5744 - val_accuracy: 0.9250\n",
      "Epoch 8/50\n",
      "1437/1437 [==============================] - 0s 33us/sample - loss: 0.5266 - accuracy: 0.9262 - val_loss: 0.5072 - val_accuracy: 0.9417\n",
      "Epoch 9/50\n",
      "1437/1437 [==============================] - 0s 29us/sample - loss: 0.4557 - accuracy: 0.9436 - val_loss: 0.4590 - val_accuracy: 0.9333\n",
      "Epoch 10/50\n",
      "1437/1437 [==============================] - 0s 30us/sample - loss: 0.4016 - accuracy: 0.9548 - val_loss: 0.3974 - val_accuracy: 0.9472\n",
      "Epoch 11/50\n",
      "1437/1437 [==============================] - 0s 30us/sample - loss: 0.3563 - accuracy: 0.9610 - val_loss: 0.3531 - val_accuracy: 0.9667\n",
      "Epoch 12/50\n",
      "1437/1437 [==============================] - 0s 28us/sample - loss: 0.3202 - accuracy: 0.9680 - val_loss: 0.3122 - val_accuracy: 0.9750\n",
      "Epoch 13/50\n",
      "1437/1437 [==============================] - 0s 31us/sample - loss: 0.2905 - accuracy: 0.9736 - val_loss: 0.3013 - val_accuracy: 0.9694\n",
      "Epoch 14/50\n",
      "1437/1437 [==============================] - 0s 30us/sample - loss: 0.2663 - accuracy: 0.9743 - val_loss: 0.2684 - val_accuracy: 0.9750\n",
      "Epoch 15/50\n",
      "1437/1437 [==============================] - 0s 32us/sample - loss: 0.2437 - accuracy: 0.9812 - val_loss: 0.2541 - val_accuracy: 0.9778\n",
      "Epoch 16/50\n",
      "1437/1437 [==============================] - 0s 34us/sample - loss: 0.2267 - accuracy: 0.9805 - val_loss: 0.2331 - val_accuracy: 0.9806\n",
      "Epoch 17/50\n",
      "1437/1437 [==============================] - 0s 31us/sample - loss: 0.2091 - accuracy: 0.9868 - val_loss: 0.2181 - val_accuracy: 0.9806\n",
      "Epoch 18/50\n",
      "1437/1437 [==============================] - 0s 32us/sample - loss: 0.1961 - accuracy: 0.9854 - val_loss: 0.2138 - val_accuracy: 0.9833\n",
      "Epoch 19/50\n",
      "1437/1437 [==============================] - 0s 32us/sample - loss: 0.1812 - accuracy: 0.9868 - val_loss: 0.1936 - val_accuracy: 0.9861\n",
      "Epoch 20/50\n",
      "1437/1437 [==============================] - 0s 31us/sample - loss: 0.1683 - accuracy: 0.9923 - val_loss: 0.1832 - val_accuracy: 0.9861\n",
      "Epoch 21/50\n",
      "1437/1437 [==============================] - 0s 34us/sample - loss: 0.1592 - accuracy: 0.9916 - val_loss: 0.1703 - val_accuracy: 0.9861\n",
      "Epoch 22/50\n",
      "1437/1437 [==============================] - 0s 35us/sample - loss: 0.1496 - accuracy: 0.9951 - val_loss: 0.1665 - val_accuracy: 0.9806\n",
      "Epoch 23/50\n",
      "1437/1437 [==============================] - 0s 35us/sample - loss: 0.1398 - accuracy: 0.9923 - val_loss: 0.1643 - val_accuracy: 0.9861\n",
      "Epoch 24/50\n",
      "1437/1437 [==============================] - 0s 29us/sample - loss: 0.1309 - accuracy: 0.9958 - val_loss: 0.1541 - val_accuracy: 0.9861\n",
      "Epoch 25/50\n",
      "1437/1437 [==============================] - 0s 33us/sample - loss: 0.1241 - accuracy: 0.9958 - val_loss: 0.1425 - val_accuracy: 0.9917\n",
      "Epoch 26/50\n",
      "1437/1437 [==============================] - 0s 33us/sample - loss: 0.1183 - accuracy: 0.9951 - val_loss: 0.1346 - val_accuracy: 0.9917\n",
      "Epoch 27/50\n",
      "1437/1437 [==============================] - 0s 33us/sample - loss: 0.1099 - accuracy: 0.9979 - val_loss: 0.1297 - val_accuracy: 0.9889\n",
      "Epoch 28/50\n",
      "1437/1437 [==============================] - 0s 32us/sample - loss: 0.1052 - accuracy: 0.9958 - val_loss: 0.1348 - val_accuracy: 0.9889\n",
      "Epoch 29/50\n",
      "1437/1437 [==============================] - 0s 34us/sample - loss: 0.1002 - accuracy: 0.9965 - val_loss: 0.1162 - val_accuracy: 0.9917\n",
      "Epoch 30/50\n",
      "1437/1437 [==============================] - 0s 36us/sample - loss: 0.0940 - accuracy: 0.9972 - val_loss: 0.1190 - val_accuracy: 0.9861\n",
      "Epoch 31/50\n",
      "1437/1437 [==============================] - 0s 31us/sample - loss: 0.0904 - accuracy: 0.9972 - val_loss: 0.1126 - val_accuracy: 0.9861\n",
      "Epoch 32/50\n",
      "1437/1437 [==============================] - 0s 35us/sample - loss: 0.0862 - accuracy: 0.9972 - val_loss: 0.0996 - val_accuracy: 0.9917\n",
      "Epoch 33/50\n",
      "1437/1437 [==============================] - 0s 33us/sample - loss: 0.0811 - accuracy: 0.9979 - val_loss: 0.1021 - val_accuracy: 0.9861\n",
      "Epoch 34/50\n",
      "1437/1437 [==============================] - 0s 32us/sample - loss: 0.0781 - accuracy: 0.9979 - val_loss: 0.1076 - val_accuracy: 0.9889\n",
      "Epoch 35/50\n",
      "1437/1437 [==============================] - 0s 33us/sample - loss: 0.0743 - accuracy: 0.9986 - val_loss: 0.1004 - val_accuracy: 0.9861\n",
      "Epoch 36/50\n",
      "1437/1437 [==============================] - 0s 33us/sample - loss: 0.0722 - accuracy: 0.9979 - val_loss: 0.0974 - val_accuracy: 0.9861\n",
      "Epoch 37/50\n",
      "1437/1437 [==============================] - 0s 35us/sample - loss: 0.0691 - accuracy: 0.9993 - val_loss: 0.1062 - val_accuracy: 0.9833\n",
      "Epoch 38/50\n",
      "1437/1437 [==============================] - 0s 31us/sample - loss: 0.0669 - accuracy: 0.9986 - val_loss: 0.0864 - val_accuracy: 0.9889\n",
      "Epoch 39/50\n",
      "1437/1437 [==============================] - 0s 31us/sample - loss: 0.0643 - accuracy: 0.9979 - val_loss: 0.0940 - val_accuracy: 0.9917\n",
      "Epoch 40/50\n",
      "1437/1437 [==============================] - 0s 33us/sample - loss: 0.0623 - accuracy: 0.9972 - val_loss: 0.0911 - val_accuracy: 0.9861\n",
      "Epoch 41/50\n",
      "1437/1437 [==============================] - 0s 33us/sample - loss: 0.0585 - accuracy: 0.9986 - val_loss: 0.0908 - val_accuracy: 0.9806\n",
      "Epoch 42/50\n",
      "1437/1437 [==============================] - 0s 35us/sample - loss: 0.0568 - accuracy: 0.9993 - val_loss: 0.0958 - val_accuracy: 0.9833\n",
      "Epoch 43/50\n",
      "1437/1437 [==============================] - 0s 33us/sample - loss: 0.0556 - accuracy: 0.9972 - val_loss: 0.0873 - val_accuracy: 0.9833\n",
      "Epoch 44/50\n",
      "1437/1437 [==============================] - 0s 35us/sample - loss: 0.0531 - accuracy: 0.9972 - val_loss: 0.1058 - val_accuracy: 0.9806\n",
      "Epoch 45/50\n",
      "1437/1437 [==============================] - 0s 33us/sample - loss: 0.0530 - accuracy: 0.9986 - val_loss: 0.0694 - val_accuracy: 0.9889\n",
      "Epoch 46/50\n",
      "1437/1437 [==============================] - 0s 31us/sample - loss: 0.0496 - accuracy: 0.9986 - val_loss: 0.0796 - val_accuracy: 0.9889\n",
      "Epoch 47/50\n",
      "1437/1437 [==============================] - 0s 33us/sample - loss: 0.0487 - accuracy: 0.9979 - val_loss: 0.0720 - val_accuracy: 0.9861\n",
      "Epoch 48/50\n",
      "1437/1437 [==============================] - 0s 35us/sample - loss: 0.0480 - accuracy: 0.9979 - val_loss: 0.0664 - val_accuracy: 0.9917\n",
      "Epoch 49/50\n",
      "1437/1437 [==============================] - 0s 29us/sample - loss: 0.0443 - accuracy: 0.9986 - val_loss: 0.0808 - val_accuracy: 0.9861\n",
      "Epoch 50/50\n",
      "1437/1437 [==============================] - 0s 32us/sample - loss: 0.0465 - accuracy: 0.9972 - val_loss: 0.0935 - val_accuracy: 0.9806\n",
      "Elapsed time to compute the importances: 2.846 seconds\n"
     ]
    }
   ],
   "source": [
    "import time\n",
    "start_time = time.time()\n",
    "\n",
    "model2 = tf.keras.Sequential([\n",
    "    keras.layers.Dense(32, input_shape=(64,), activation='tanh', kernel_regularizer=\"l2\"), # Hidden layer\n",
    "#     keras.layers.Dense(10, activation='relu', kernel_regularizer=None), # Hidden layer\n",
    "#     keras.layers.Dense(10, activation='relu', kernel_regularizer=None), # Hidden layer\n",
    "#     keras.layers.Dense(10, activation='relu', kernel_regularizer=None), # Hidden layer\n",
    "#     keras.layers.Dense(10, activation='relu', kernel_regularizer=None), # Hidden layer\n",
    "#     keras.layers.Dense(10, activation='relu', kernel_regularizer=None), # Hidden layer\n",
    "#     keras.layers.Dense(10, activation='relu', kernel_regularizer=None), # Hidden layer\n",
    "#     keras.layers.Dense(10, activation='relu', kernel_regularizer=None), # Hidden layer\n",
    "#     keras.layers.Dense(10, activation='relu', kernel_regularizer=None), # Hidden layer\n",
    "    keras.layers.Dense(10, activation='softmax') # Output layer\n",
    "])\n",
    "\n",
    "# opt = tf.keras.optimizers.SGD(\n",
    "#     learning_rate=0.01,\n",
    "#     momentum=0.9,\n",
    "#     nesterov=False,\n",
    "#     name='SGD',\n",
    "# #     **kwargs\n",
    "# )\n",
    "\n",
    "model2.compile(optimizer='rmsprop',\n",
    "              loss='sparse_categorical_crossentropy',\n",
    "              metrics=['accuracy'])\n",
    "\n",
    "hist = model2.fit(X_train, y_train, epochs=50, validation_data=(X_test, y_test))\n",
    "\n",
    "elapsed_time = time.time() - start_time\n",
    "print(f\"Elapsed time to compute the importances: {elapsed_time:.3f} seconds\")"
   ]
  },
  {
   "cell_type": "code",
   "execution_count": 142,
   "metadata": {},
   "outputs": [],
   "source": [
    "y_predicted = model2.predict(X_test)\n",
    "y_predicted_labels = [np.argmax(i) for i in y_predicted]\n",
    "cm = tf.math.confusion_matrix(labels=y_test, predictions = y_predicted_labels)\n",
    "# cm"
   ]
  },
  {
   "cell_type": "code",
   "execution_count": 143,
   "metadata": {},
   "outputs": [
    {
     "data": {
      "text/plain": [
       "array([9.7362290e-04, 1.8698390e-04, 7.0933459e-07, 3.3540193e-03,\n",
       "       1.8441279e-03, 9.7279185e-01, 4.3314714e-03, 1.1275317e-06,\n",
       "       1.3643619e-02, 2.8724137e-03], dtype=float32)"
      ]
     },
     "execution_count": 143,
     "metadata": {},
     "output_type": "execute_result"
    }
   ],
   "source": [
    "y_predicted[0]"
   ]
  },
  {
   "cell_type": "code",
   "execution_count": 144,
   "metadata": {},
   "outputs": [
    {
     "data": {
      "text/plain": [
       "Text(69.0, 0.5, 'Truth')"
      ]
     },
     "execution_count": 144,
     "metadata": {},
     "output_type": "execute_result"
    },
    {
     "data": {
      "image/png": "[encoded data removed]",
      "text/plain": [
       "<Figure size 720x504 with 2 Axes>"
      ]
     },
     "metadata": {
      "needs_background": "light"
     },
     "output_type": "display_data"
    }
   ],
   "source": [
    "plt.figure(figsize = (10,7))\n",
    "sn.heatmap(cm, annot=True, fmt='d')\n",
    "plt.xlabel('Predicted')\n",
    "plt.ylabel('Truth')"
   ]
  },
  {
   "cell_type": "code",
   "execution_count": 145,
   "metadata": {},
   "outputs": [
    {
     "data": {
      "image/png": "[encoded data removed]",
      "text/plain": [
       "<Figure size 432x288 with 1 Axes>"
      ]
     },
     "metadata": {
      "needs_background": "light"
     },
     "output_type": "display_data"
    }
   ],
   "source": [
    "TrainError = np.ones(len(hist.history['accuracy'])) - np.array(hist.history['accuracy'])\n",
    "TestError = np.ones(len(hist.history['val_accuracy'])) - np.array(hist.history['val_accuracy'])\n",
    "\n",
    "plt.plot(TrainError)\n",
    "plt.plot(TestError)\n",
    "plt.title('Model Mis-Classification')\n",
    "plt.ylabel('Mis-Classification Rate')\n",
    "plt.xlabel('Epoch')\n",
    "plt.legend(['Train', 'Test'], loc='best')\n",
    "plt.show()"
   ]
  },
  {
   "cell_type": "code",
   "execution_count": 147,
   "metadata": {},
   "outputs": [
    {
     "data": {
      "image/png": "[encoded data removed]",
      "text/plain": [
       "<Figure size 432x288 with 1 Axes>"
      ]
     },
     "metadata": {
      "needs_background": "light"
     },
     "output_type": "display_data"
    }
   ],
   "source": [
    "plt.plot(hist.history['loss'])\n",
    "plt.plot(hist.history['val_loss'])\n",
    "plt.title('Model loss-Regularization L2')\n",
    "plt.ylabel('Loss')\n",
    "plt.xlabel('Epoch')\n",
    "plt.legend(['Train', 'Test'], loc='best')\n",
    "plt.show()"
   ]
  },
  {
   "cell_type": "code",
   "execution_count": null,
   "metadata": {},
   "outputs": [],
   "source": []
  },
  {
   "cell_type": "code",
   "execution_count": null,
   "metadata": {},
   "outputs": [],
   "source": []
  }
 ],
 "metadata": {
  "kernelspec": {
   "display_name": "Python 3",
   "language": "python",
   "name": "python3"
  },
  "language_info": {
   "codemirror_mode": {
    "name": "ipython",
    "version": 3
   },
   "file_extension": ".py",
   "mimetype": "text/x-python",
   "name": "python",
   "nbconvert_exporter": "python",
   "pygments_lexer": "ipython3",
   "version": "3.7.9"
  }
 },
 "nbformat": 4,
 "nbformat_minor": 4
}
