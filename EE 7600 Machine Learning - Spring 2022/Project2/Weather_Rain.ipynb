{
 "cells": [
  {
   "cell_type": "code",
   "execution_count": 1,
   "metadata": {},
   "outputs": [],
   "source": [
    "import numpy as np\n",
    "import pandas as pd\n",
    "import matplotlib.pyplot as plt\n",
    "import seaborn as sb\n",
    "from sklearn.impute import KNNImputer\n",
    "from sklearn import preprocessing"
   ]
  },
  {
   "cell_type": "code",
   "execution_count": 2,
   "metadata": {},
   "outputs": [
    {
     "data": {
      "text/html": [
       "<div>\n",
       "<style scoped>\n",
       "    .dataframe tbody tr th:only-of-type {\n",
       "        vertical-align: middle;\n",
       "    }\n",
       "\n",
       "    .dataframe tbody tr th {\n",
       "        vertical-align: top;\n",
       "    }\n",
       "\n",
       "    .dataframe thead th {\n",
       "        text-align: right;\n",
       "    }\n",
       "</style>\n",
       "<table border=\"1\" class=\"dataframe\">\n",
       "  <thead>\n",
       "    <tr style=\"text-align: right;\">\n",
       "      <th></th>\n",
       "      <th>MinTemp</th>\n",
       "      <th>MaxTemp</th>\n",
       "      <th>Rainfall</th>\n",
       "      <th>Wind Gust Speed</th>\n",
       "      <th>Wind Speed 9am</th>\n",
       "      <th>Wind Speed 3pm</th>\n",
       "      <th>Humidity 9am</th>\n",
       "      <th>Humidity 3pm</th>\n",
       "      <th>Pressure 9am</th>\n",
       "      <th>Pressure 3pm</th>\n",
       "      <th>Temp 9am</th>\n",
       "      <th>Temp 3pm</th>\n",
       "      <th>Rain Today</th>\n",
       "      <th>Rain Tomorrow</th>\n",
       "    </tr>\n",
       "  </thead>\n",
       "  <tbody>\n",
       "    <tr>\n",
       "      <th>0</th>\n",
       "      <td>13.4</td>\n",
       "      <td>22.9</td>\n",
       "      <td>0.6</td>\n",
       "      <td>44.0</td>\n",
       "      <td>20.0</td>\n",
       "      <td>24.0</td>\n",
       "      <td>71.0</td>\n",
       "      <td>22.0</td>\n",
       "      <td>1007.7</td>\n",
       "      <td>1007.1</td>\n",
       "      <td>16.9</td>\n",
       "      <td>21.8</td>\n",
       "      <td>0</td>\n",
       "      <td>0.0</td>\n",
       "    </tr>\n",
       "    <tr>\n",
       "      <th>1</th>\n",
       "      <td>7.4</td>\n",
       "      <td>25.1</td>\n",
       "      <td>0.0</td>\n",
       "      <td>44.0</td>\n",
       "      <td>4.0</td>\n",
       "      <td>22.0</td>\n",
       "      <td>44.0</td>\n",
       "      <td>25.0</td>\n",
       "      <td>1010.6</td>\n",
       "      <td>1007.8</td>\n",
       "      <td>17.2</td>\n",
       "      <td>24.3</td>\n",
       "      <td>0</td>\n",
       "      <td>0.0</td>\n",
       "    </tr>\n",
       "    <tr>\n",
       "      <th>2</th>\n",
       "      <td>12.9</td>\n",
       "      <td>25.7</td>\n",
       "      <td>0.0</td>\n",
       "      <td>46.0</td>\n",
       "      <td>19.0</td>\n",
       "      <td>26.0</td>\n",
       "      <td>38.0</td>\n",
       "      <td>30.0</td>\n",
       "      <td>1007.6</td>\n",
       "      <td>1008.7</td>\n",
       "      <td>21.0</td>\n",
       "      <td>23.2</td>\n",
       "      <td>0</td>\n",
       "      <td>0.0</td>\n",
       "    </tr>\n",
       "    <tr>\n",
       "      <th>3</th>\n",
       "      <td>9.2</td>\n",
       "      <td>28.0</td>\n",
       "      <td>0.0</td>\n",
       "      <td>24.0</td>\n",
       "      <td>11.0</td>\n",
       "      <td>9.0</td>\n",
       "      <td>45.0</td>\n",
       "      <td>16.0</td>\n",
       "      <td>1017.6</td>\n",
       "      <td>1012.8</td>\n",
       "      <td>18.1</td>\n",
       "      <td>26.5</td>\n",
       "      <td>0</td>\n",
       "      <td>0.0</td>\n",
       "    </tr>\n",
       "    <tr>\n",
       "      <th>4</th>\n",
       "      <td>17.5</td>\n",
       "      <td>32.3</td>\n",
       "      <td>1.0</td>\n",
       "      <td>41.0</td>\n",
       "      <td>7.0</td>\n",
       "      <td>20.0</td>\n",
       "      <td>82.0</td>\n",
       "      <td>33.0</td>\n",
       "      <td>1010.8</td>\n",
       "      <td>1006.0</td>\n",
       "      <td>17.8</td>\n",
       "      <td>29.7</td>\n",
       "      <td>0</td>\n",
       "      <td>0.0</td>\n",
       "    </tr>\n",
       "    <tr>\n",
       "      <th>5</th>\n",
       "      <td>14.6</td>\n",
       "      <td>29.7</td>\n",
       "      <td>0.2</td>\n",
       "      <td>56.0</td>\n",
       "      <td>19.0</td>\n",
       "      <td>24.0</td>\n",
       "      <td>55.0</td>\n",
       "      <td>23.0</td>\n",
       "      <td>1009.2</td>\n",
       "      <td>1005.4</td>\n",
       "      <td>20.6</td>\n",
       "      <td>28.9</td>\n",
       "      <td>0</td>\n",
       "      <td>0.0</td>\n",
       "    </tr>\n",
       "    <tr>\n",
       "      <th>6</th>\n",
       "      <td>14.3</td>\n",
       "      <td>25.0</td>\n",
       "      <td>0.0</td>\n",
       "      <td>50.0</td>\n",
       "      <td>20.0</td>\n",
       "      <td>24.0</td>\n",
       "      <td>49.0</td>\n",
       "      <td>19.0</td>\n",
       "      <td>1009.6</td>\n",
       "      <td>1008.2</td>\n",
       "      <td>18.1</td>\n",
       "      <td>24.6</td>\n",
       "      <td>0</td>\n",
       "      <td>0.0</td>\n",
       "    </tr>\n",
       "    <tr>\n",
       "      <th>7</th>\n",
       "      <td>7.7</td>\n",
       "      <td>26.7</td>\n",
       "      <td>0.0</td>\n",
       "      <td>35.0</td>\n",
       "      <td>6.0</td>\n",
       "      <td>17.0</td>\n",
       "      <td>48.0</td>\n",
       "      <td>19.0</td>\n",
       "      <td>1013.4</td>\n",
       "      <td>1010.1</td>\n",
       "      <td>16.3</td>\n",
       "      <td>25.5</td>\n",
       "      <td>0</td>\n",
       "      <td>0.0</td>\n",
       "    </tr>\n",
       "    <tr>\n",
       "      <th>8</th>\n",
       "      <td>9.7</td>\n",
       "      <td>31.9</td>\n",
       "      <td>0.0</td>\n",
       "      <td>80.0</td>\n",
       "      <td>7.0</td>\n",
       "      <td>28.0</td>\n",
       "      <td>42.0</td>\n",
       "      <td>9.0</td>\n",
       "      <td>1008.9</td>\n",
       "      <td>1003.6</td>\n",
       "      <td>18.3</td>\n",
       "      <td>30.2</td>\n",
       "      <td>0</td>\n",
       "      <td>1.0</td>\n",
       "    </tr>\n",
       "    <tr>\n",
       "      <th>9</th>\n",
       "      <td>13.1</td>\n",
       "      <td>30.1</td>\n",
       "      <td>1.4</td>\n",
       "      <td>28.0</td>\n",
       "      <td>15.0</td>\n",
       "      <td>11.0</td>\n",
       "      <td>58.0</td>\n",
       "      <td>27.0</td>\n",
       "      <td>1007.0</td>\n",
       "      <td>1005.7</td>\n",
       "      <td>20.1</td>\n",
       "      <td>28.2</td>\n",
       "      <td>1</td>\n",
       "      <td>0.0</td>\n",
       "    </tr>\n",
       "  </tbody>\n",
       "</table>\n",
       "</div>"
      ],
      "text/plain": [
       "   MinTemp  MaxTemp  Rainfall  Wind Gust Speed  Wind Speed 9am  \\\n",
       "0     13.4     22.9       0.6             44.0            20.0   \n",
       "1      7.4     25.1       0.0             44.0             4.0   \n",
       "2     12.9     25.7       0.0             46.0            19.0   \n",
       "3      9.2     28.0       0.0             24.0            11.0   \n",
       "4     17.5     32.3       1.0             41.0             7.0   \n",
       "5     14.6     29.7       0.2             56.0            19.0   \n",
       "6     14.3     25.0       0.0             50.0            20.0   \n",
       "7      7.7     26.7       0.0             35.0             6.0   \n",
       "8      9.7     31.9       0.0             80.0             7.0   \n",
       "9     13.1     30.1       1.4             28.0            15.0   \n",
       "\n",
       "   Wind Speed 3pm  Humidity 9am  Humidity 3pm  Pressure 9am  Pressure 3pm  \\\n",
       "0            24.0          71.0          22.0        1007.7        1007.1   \n",
       "1            22.0          44.0          25.0        1010.6        1007.8   \n",
       "2            26.0          38.0          30.0        1007.6        1008.7   \n",
       "3             9.0          45.0          16.0        1017.6        1012.8   \n",
       "4            20.0          82.0          33.0        1010.8        1006.0   \n",
       "5            24.0          55.0          23.0        1009.2        1005.4   \n",
       "6            24.0          49.0          19.0        1009.6        1008.2   \n",
       "7            17.0          48.0          19.0        1013.4        1010.1   \n",
       "8            28.0          42.0           9.0        1008.9        1003.6   \n",
       "9            11.0          58.0          27.0        1007.0        1005.7   \n",
       "\n",
       "   Temp 9am  Temp 3pm  Rain Today  Rain Tomorrow  \n",
       "0      16.9      21.8           0            0.0  \n",
       "1      17.2      24.3           0            0.0  \n",
       "2      21.0      23.2           0            0.0  \n",
       "3      18.1      26.5           0            0.0  \n",
       "4      17.8      29.7           0            0.0  \n",
       "5      20.6      28.9           0            0.0  \n",
       "6      18.1      24.6           0            0.0  \n",
       "7      16.3      25.5           0            0.0  \n",
       "8      18.3      30.2           0            1.0  \n",
       "9      20.1      28.2           1            0.0  "
      ]
     },
     "execution_count": 2,
     "metadata": {},
     "output_type": "execute_result"
    }
   ],
   "source": [
    "data = pd.read_csv('C:/Users/rezam/OneDrive - Louisiana State University/PhD Courses/EE 7600 Machine Learning/Project_2/weather_rain.csv')\n",
    "data.head(10)"
   ]
  },
  {
   "cell_type": "code",
   "execution_count": 3,
   "metadata": {},
   "outputs": [
    {
     "name": "stdout",
     "output_type": "stream",
     "text": [
      "<class 'pandas.core.frame.DataFrame'>\n",
      "RangeIndex: 145460 entries, 0 to 145459\n",
      "Data columns (total 14 columns):\n",
      " #   Column           Non-Null Count   Dtype  \n",
      "---  ------           --------------   -----  \n",
      " 0   MinTemp          143975 non-null  float64\n",
      " 1   MaxTemp          144199 non-null  float64\n",
      " 2   Rainfall         142199 non-null  float64\n",
      " 3   Wind Gust Speed  135197 non-null  float64\n",
      " 4   Wind Speed 9am   143693 non-null  float64\n",
      " 5   Wind Speed 3pm   142398 non-null  float64\n",
      " 6   Humidity 9am     142806 non-null  float64\n",
      " 7   Humidity 3pm     140953 non-null  float64\n",
      " 8   Pressure 9am     130395 non-null  float64\n",
      " 9   Pressure 3pm     130432 non-null  float64\n",
      " 10  Temp 9am         143693 non-null  float64\n",
      " 11  Temp 3pm         141851 non-null  float64\n",
      " 12  Rain Today       145460 non-null  int64  \n",
      " 13  Rain Tomorrow    142193 non-null  float64\n",
      "dtypes: float64(13), int64(1)\n",
      "memory usage: 15.5 MB\n"
     ]
    }
   ],
   "source": [
    "data.info()"
   ]
  },
  {
   "cell_type": "code",
   "execution_count": 4,
   "metadata": {},
   "outputs": [
    {
     "name": "stdout",
     "output_type": "stream",
     "text": [
      "Index(['MinTemp', 'MaxTemp', 'Rainfall', 'Wind Gust Speed', 'Wind Speed 9am',\n",
      "       'Wind Speed 3pm', 'Humidity 9am', 'Humidity 3pm', 'Pressure 9am',\n",
      "       'Pressure 3pm', 'Temp 9am', 'Temp 3pm', 'Rain Today', 'Rain Tomorrow'],\n",
      "      dtype='object') \n",
      "\n"
     ]
    }
   ],
   "source": [
    "print(data.keys(), '\\n')"
   ]
  },
  {
   "cell_type": "code",
   "execution_count": 5,
   "metadata": {},
   "outputs": [
    {
     "data": {
      "text/plain": [
       "(145460, 14)"
      ]
     },
     "execution_count": 5,
     "metadata": {},
     "output_type": "execute_result"
    }
   ],
   "source": [
    "data.shape"
   ]
  },
  {
   "cell_type": "code",
   "execution_count": 6,
   "metadata": {},
   "outputs": [
    {
     "data": {
      "text/html": [
       "<div>\n",
       "<style scoped>\n",
       "    .dataframe tbody tr th:only-of-type {\n",
       "        vertical-align: middle;\n",
       "    }\n",
       "\n",
       "    .dataframe tbody tr th {\n",
       "        vertical-align: top;\n",
       "    }\n",
       "\n",
       "    .dataframe thead th {\n",
       "        text-align: right;\n",
       "    }\n",
       "</style>\n",
       "<table border=\"1\" class=\"dataframe\">\n",
       "  <thead>\n",
       "    <tr style=\"text-align: right;\">\n",
       "      <th></th>\n",
       "      <th>MinTemp</th>\n",
       "      <th>MaxTemp</th>\n",
       "      <th>Rainfall</th>\n",
       "      <th>Wind Gust Speed</th>\n",
       "      <th>Wind Speed 9am</th>\n",
       "      <th>Wind Speed 3pm</th>\n",
       "      <th>Humidity 9am</th>\n",
       "      <th>Humidity 3pm</th>\n",
       "      <th>Pressure 9am</th>\n",
       "      <th>Pressure 3pm</th>\n",
       "      <th>Temp 9am</th>\n",
       "      <th>Temp 3pm</th>\n",
       "      <th>Rain Today</th>\n",
       "      <th>Rain Tomorrow</th>\n",
       "    </tr>\n",
       "  </thead>\n",
       "  <tbody>\n",
       "    <tr>\n",
       "      <th>count</th>\n",
       "      <td>143975.000000</td>\n",
       "      <td>144199.000000</td>\n",
       "      <td>142199.000000</td>\n",
       "      <td>135197.000000</td>\n",
       "      <td>143693.000000</td>\n",
       "      <td>142398.000000</td>\n",
       "      <td>142806.000000</td>\n",
       "      <td>140953.000000</td>\n",
       "      <td>130395.00000</td>\n",
       "      <td>130432.000000</td>\n",
       "      <td>143693.000000</td>\n",
       "      <td>141851.00000</td>\n",
       "      <td>145460.000000</td>\n",
       "      <td>142193.000000</td>\n",
       "    </tr>\n",
       "    <tr>\n",
       "      <th>mean</th>\n",
       "      <td>12.194034</td>\n",
       "      <td>23.221348</td>\n",
       "      <td>2.360918</td>\n",
       "      <td>40.035230</td>\n",
       "      <td>14.043426</td>\n",
       "      <td>18.662657</td>\n",
       "      <td>68.880831</td>\n",
       "      <td>51.539116</td>\n",
       "      <td>1017.64994</td>\n",
       "      <td>1015.255889</td>\n",
       "      <td>16.990631</td>\n",
       "      <td>21.68339</td>\n",
       "      <td>0.219167</td>\n",
       "      <td>0.224181</td>\n",
       "    </tr>\n",
       "    <tr>\n",
       "      <th>std</th>\n",
       "      <td>6.398495</td>\n",
       "      <td>7.119049</td>\n",
       "      <td>8.478060</td>\n",
       "      <td>13.607062</td>\n",
       "      <td>8.915375</td>\n",
       "      <td>8.809800</td>\n",
       "      <td>19.029164</td>\n",
       "      <td>20.795902</td>\n",
       "      <td>7.10653</td>\n",
       "      <td>7.037414</td>\n",
       "      <td>6.488753</td>\n",
       "      <td>6.93665</td>\n",
       "      <td>0.413683</td>\n",
       "      <td>0.417043</td>\n",
       "    </tr>\n",
       "    <tr>\n",
       "      <th>min</th>\n",
       "      <td>-8.500000</td>\n",
       "      <td>-4.800000</td>\n",
       "      <td>0.000000</td>\n",
       "      <td>6.000000</td>\n",
       "      <td>0.000000</td>\n",
       "      <td>0.000000</td>\n",
       "      <td>0.000000</td>\n",
       "      <td>0.000000</td>\n",
       "      <td>980.50000</td>\n",
       "      <td>977.100000</td>\n",
       "      <td>-7.200000</td>\n",
       "      <td>-5.40000</td>\n",
       "      <td>0.000000</td>\n",
       "      <td>0.000000</td>\n",
       "    </tr>\n",
       "    <tr>\n",
       "      <th>25%</th>\n",
       "      <td>7.600000</td>\n",
       "      <td>17.900000</td>\n",
       "      <td>0.000000</td>\n",
       "      <td>31.000000</td>\n",
       "      <td>7.000000</td>\n",
       "      <td>13.000000</td>\n",
       "      <td>57.000000</td>\n",
       "      <td>37.000000</td>\n",
       "      <td>1012.90000</td>\n",
       "      <td>1010.400000</td>\n",
       "      <td>12.300000</td>\n",
       "      <td>16.60000</td>\n",
       "      <td>0.000000</td>\n",
       "      <td>0.000000</td>\n",
       "    </tr>\n",
       "    <tr>\n",
       "      <th>50%</th>\n",
       "      <td>12.000000</td>\n",
       "      <td>22.600000</td>\n",
       "      <td>0.000000</td>\n",
       "      <td>39.000000</td>\n",
       "      <td>13.000000</td>\n",
       "      <td>19.000000</td>\n",
       "      <td>70.000000</td>\n",
       "      <td>52.000000</td>\n",
       "      <td>1017.60000</td>\n",
       "      <td>1015.200000</td>\n",
       "      <td>16.700000</td>\n",
       "      <td>21.10000</td>\n",
       "      <td>0.000000</td>\n",
       "      <td>0.000000</td>\n",
       "    </tr>\n",
       "    <tr>\n",
       "      <th>75%</th>\n",
       "      <td>16.900000</td>\n",
       "      <td>28.200000</td>\n",
       "      <td>0.800000</td>\n",
       "      <td>48.000000</td>\n",
       "      <td>19.000000</td>\n",
       "      <td>24.000000</td>\n",
       "      <td>83.000000</td>\n",
       "      <td>66.000000</td>\n",
       "      <td>1022.40000</td>\n",
       "      <td>1020.000000</td>\n",
       "      <td>21.600000</td>\n",
       "      <td>26.40000</td>\n",
       "      <td>0.000000</td>\n",
       "      <td>0.000000</td>\n",
       "    </tr>\n",
       "    <tr>\n",
       "      <th>max</th>\n",
       "      <td>33.900000</td>\n",
       "      <td>48.100000</td>\n",
       "      <td>371.000000</td>\n",
       "      <td>135.000000</td>\n",
       "      <td>130.000000</td>\n",
       "      <td>87.000000</td>\n",
       "      <td>100.000000</td>\n",
       "      <td>100.000000</td>\n",
       "      <td>1041.00000</td>\n",
       "      <td>1039.600000</td>\n",
       "      <td>40.200000</td>\n",
       "      <td>46.70000</td>\n",
       "      <td>1.000000</td>\n",
       "      <td>1.000000</td>\n",
       "    </tr>\n",
       "  </tbody>\n",
       "</table>\n",
       "</div>"
      ],
      "text/plain": [
       "             MinTemp        MaxTemp       Rainfall  Wind Gust Speed  \\\n",
       "count  143975.000000  144199.000000  142199.000000    135197.000000   \n",
       "mean       12.194034      23.221348       2.360918        40.035230   \n",
       "std         6.398495       7.119049       8.478060        13.607062   \n",
       "min        -8.500000      -4.800000       0.000000         6.000000   \n",
       "25%         7.600000      17.900000       0.000000        31.000000   \n",
       "50%        12.000000      22.600000       0.000000        39.000000   \n",
       "75%        16.900000      28.200000       0.800000        48.000000   \n",
       "max        33.900000      48.100000     371.000000       135.000000   \n",
       "\n",
       "       Wind Speed 9am  Wind Speed 3pm   Humidity 9am   Humidity 3pm  \\\n",
       "count   143693.000000   142398.000000  142806.000000  140953.000000   \n",
       "mean        14.043426       18.662657      68.880831      51.539116   \n",
       "std          8.915375        8.809800      19.029164      20.795902   \n",
       "min          0.000000        0.000000       0.000000       0.000000   \n",
       "25%          7.000000       13.000000      57.000000      37.000000   \n",
       "50%         13.000000       19.000000      70.000000      52.000000   \n",
       "75%         19.000000       24.000000      83.000000      66.000000   \n",
       "max        130.000000       87.000000     100.000000     100.000000   \n",
       "\n",
       "       Pressure 9am   Pressure 3pm       Temp 9am      Temp 3pm  \\\n",
       "count  130395.00000  130432.000000  143693.000000  141851.00000   \n",
       "mean     1017.64994    1015.255889      16.990631      21.68339   \n",
       "std         7.10653       7.037414       6.488753       6.93665   \n",
       "min       980.50000     977.100000      -7.200000      -5.40000   \n",
       "25%      1012.90000    1010.400000      12.300000      16.60000   \n",
       "50%      1017.60000    1015.200000      16.700000      21.10000   \n",
       "75%      1022.40000    1020.000000      21.600000      26.40000   \n",
       "max      1041.00000    1039.600000      40.200000      46.70000   \n",
       "\n",
       "          Rain Today  Rain Tomorrow  \n",
       "count  145460.000000  142193.000000  \n",
       "mean        0.219167       0.224181  \n",
       "std         0.413683       0.417043  \n",
       "min         0.000000       0.000000  \n",
       "25%         0.000000       0.000000  \n",
       "50%         0.000000       0.000000  \n",
       "75%         0.000000       0.000000  \n",
       "max         1.000000       1.000000  "
      ]
     },
     "execution_count": 6,
     "metadata": {},
     "output_type": "execute_result"
    }
   ],
   "source": [
    "data.describe() #Data Describtion"
   ]
  },
  {
   "cell_type": "code",
   "execution_count": 7,
   "metadata": {},
   "outputs": [
    {
     "data": {
      "text/html": [
       "<div>\n",
       "<style scoped>\n",
       "    .dataframe tbody tr th:only-of-type {\n",
       "        vertical-align: middle;\n",
       "    }\n",
       "\n",
       "    .dataframe tbody tr th {\n",
       "        vertical-align: top;\n",
       "    }\n",
       "\n",
       "    .dataframe thead th {\n",
       "        text-align: right;\n",
       "    }\n",
       "</style>\n",
       "<table border=\"1\" class=\"dataframe\">\n",
       "  <thead>\n",
       "    <tr style=\"text-align: right;\">\n",
       "      <th></th>\n",
       "      <th>MinTemp</th>\n",
       "      <th>MaxTemp</th>\n",
       "      <th>Rainfall</th>\n",
       "      <th>Wind Gust Speed</th>\n",
       "      <th>Wind Speed 9am</th>\n",
       "      <th>Wind Speed 3pm</th>\n",
       "      <th>Humidity 9am</th>\n",
       "      <th>Humidity 3pm</th>\n",
       "      <th>Pressure 9am</th>\n",
       "      <th>Pressure 3pm</th>\n",
       "      <th>Temp 9am</th>\n",
       "      <th>Temp 3pm</th>\n",
       "      <th>Rain Today</th>\n",
       "      <th>Rain Tomorrow</th>\n",
       "    </tr>\n",
       "  </thead>\n",
       "  <tbody>\n",
       "    <tr>\n",
       "      <th>MinTemp</th>\n",
       "      <td>1.000000</td>\n",
       "      <td>0.736555</td>\n",
       "      <td>0.103938</td>\n",
       "      <td>0.177415</td>\n",
       "      <td>0.175064</td>\n",
       "      <td>0.175173</td>\n",
       "      <td>-0.232899</td>\n",
       "      <td>0.006089</td>\n",
       "      <td>-0.450970</td>\n",
       "      <td>-0.461292</td>\n",
       "      <td>0.901821</td>\n",
       "      <td>0.708906</td>\n",
       "      <td>0.054702</td>\n",
       "      <td>0.083936</td>\n",
       "    </tr>\n",
       "    <tr>\n",
       "      <th>MaxTemp</th>\n",
       "      <td>0.736555</td>\n",
       "      <td>1.000000</td>\n",
       "      <td>-0.074992</td>\n",
       "      <td>0.067615</td>\n",
       "      <td>0.014450</td>\n",
       "      <td>0.050300</td>\n",
       "      <td>-0.504110</td>\n",
       "      <td>-0.508855</td>\n",
       "      <td>-0.332061</td>\n",
       "      <td>-0.427167</td>\n",
       "      <td>0.887210</td>\n",
       "      <td>0.984503</td>\n",
       "      <td>-0.226001</td>\n",
       "      <td>-0.159237</td>\n",
       "    </tr>\n",
       "    <tr>\n",
       "      <th>Rainfall</th>\n",
       "      <td>0.103938</td>\n",
       "      <td>-0.074992</td>\n",
       "      <td>1.000000</td>\n",
       "      <td>0.133659</td>\n",
       "      <td>0.087338</td>\n",
       "      <td>0.057887</td>\n",
       "      <td>0.224405</td>\n",
       "      <td>0.255755</td>\n",
       "      <td>-0.168154</td>\n",
       "      <td>-0.126534</td>\n",
       "      <td>0.011192</td>\n",
       "      <td>-0.079657</td>\n",
       "      <td>0.501516</td>\n",
       "      <td>0.239032</td>\n",
       "    </tr>\n",
       "    <tr>\n",
       "      <th>Wind Gust Speed</th>\n",
       "      <td>0.177415</td>\n",
       "      <td>0.067615</td>\n",
       "      <td>0.133659</td>\n",
       "      <td>1.000000</td>\n",
       "      <td>0.605303</td>\n",
       "      <td>0.686307</td>\n",
       "      <td>-0.215070</td>\n",
       "      <td>-0.026327</td>\n",
       "      <td>-0.458744</td>\n",
       "      <td>-0.413749</td>\n",
       "      <td>0.150150</td>\n",
       "      <td>0.032748</td>\n",
       "      <td>0.151605</td>\n",
       "      <td>0.234010</td>\n",
       "    </tr>\n",
       "    <tr>\n",
       "      <th>Wind Speed 9am</th>\n",
       "      <td>0.175064</td>\n",
       "      <td>0.014450</td>\n",
       "      <td>0.087338</td>\n",
       "      <td>0.605303</td>\n",
       "      <td>1.000000</td>\n",
       "      <td>0.519547</td>\n",
       "      <td>-0.270858</td>\n",
       "      <td>-0.031614</td>\n",
       "      <td>-0.228743</td>\n",
       "      <td>-0.175817</td>\n",
       "      <td>0.128545</td>\n",
       "      <td>0.004569</td>\n",
       "      <td>0.099084</td>\n",
       "      <td>0.090995</td>\n",
       "    </tr>\n",
       "    <tr>\n",
       "      <th>Wind Speed 3pm</th>\n",
       "      <td>0.175173</td>\n",
       "      <td>0.050300</td>\n",
       "      <td>0.057887</td>\n",
       "      <td>0.686307</td>\n",
       "      <td>0.519547</td>\n",
       "      <td>1.000000</td>\n",
       "      <td>-0.145525</td>\n",
       "      <td>0.016432</td>\n",
       "      <td>-0.296351</td>\n",
       "      <td>-0.255439</td>\n",
       "      <td>0.163030</td>\n",
       "      <td>0.027778</td>\n",
       "      <td>0.077913</td>\n",
       "      <td>0.087817</td>\n",
       "    </tr>\n",
       "    <tr>\n",
       "      <th>Humidity 9am</th>\n",
       "      <td>-0.232899</td>\n",
       "      <td>-0.504110</td>\n",
       "      <td>0.224405</td>\n",
       "      <td>-0.215070</td>\n",
       "      <td>-0.270858</td>\n",
       "      <td>-0.145525</td>\n",
       "      <td>1.000000</td>\n",
       "      <td>0.666949</td>\n",
       "      <td>0.139442</td>\n",
       "      <td>0.186858</td>\n",
       "      <td>-0.471354</td>\n",
       "      <td>-0.498399</td>\n",
       "      <td>0.349752</td>\n",
       "      <td>0.257161</td>\n",
       "    </tr>\n",
       "    <tr>\n",
       "      <th>Humidity 3pm</th>\n",
       "      <td>0.006089</td>\n",
       "      <td>-0.508855</td>\n",
       "      <td>0.255755</td>\n",
       "      <td>-0.026327</td>\n",
       "      <td>-0.031614</td>\n",
       "      <td>0.016432</td>\n",
       "      <td>0.666949</td>\n",
       "      <td>1.000000</td>\n",
       "      <td>-0.027544</td>\n",
       "      <td>0.051997</td>\n",
       "      <td>-0.221019</td>\n",
       "      <td>-0.557841</td>\n",
       "      <td>0.373596</td>\n",
       "      <td>0.446160</td>\n",
       "    </tr>\n",
       "    <tr>\n",
       "      <th>Pressure 9am</th>\n",
       "      <td>-0.450970</td>\n",
       "      <td>-0.332061</td>\n",
       "      <td>-0.168154</td>\n",
       "      <td>-0.458744</td>\n",
       "      <td>-0.228743</td>\n",
       "      <td>-0.296351</td>\n",
       "      <td>0.139442</td>\n",
       "      <td>-0.027544</td>\n",
       "      <td>1.000000</td>\n",
       "      <td>0.961326</td>\n",
       "      <td>-0.422556</td>\n",
       "      <td>-0.286770</td>\n",
       "      <td>-0.187547</td>\n",
       "      <td>-0.246371</td>\n",
       "    </tr>\n",
       "    <tr>\n",
       "      <th>Pressure 3pm</th>\n",
       "      <td>-0.461292</td>\n",
       "      <td>-0.427167</td>\n",
       "      <td>-0.126534</td>\n",
       "      <td>-0.413749</td>\n",
       "      <td>-0.175817</td>\n",
       "      <td>-0.255439</td>\n",
       "      <td>0.186858</td>\n",
       "      <td>0.051997</td>\n",
       "      <td>0.961326</td>\n",
       "      <td>1.000000</td>\n",
       "      <td>-0.470187</td>\n",
       "      <td>-0.389548</td>\n",
       "      <td>-0.104862</td>\n",
       "      <td>-0.226031</td>\n",
       "    </tr>\n",
       "    <tr>\n",
       "      <th>Temp 9am</th>\n",
       "      <td>0.901821</td>\n",
       "      <td>0.887210</td>\n",
       "      <td>0.011192</td>\n",
       "      <td>0.150150</td>\n",
       "      <td>0.128545</td>\n",
       "      <td>0.163030</td>\n",
       "      <td>-0.471354</td>\n",
       "      <td>-0.221019</td>\n",
       "      <td>-0.422556</td>\n",
       "      <td>-0.470187</td>\n",
       "      <td>1.000000</td>\n",
       "      <td>0.860591</td>\n",
       "      <td>-0.096357</td>\n",
       "      <td>-0.025691</td>\n",
       "    </tr>\n",
       "    <tr>\n",
       "      <th>Temp 3pm</th>\n",
       "      <td>0.708906</td>\n",
       "      <td>0.984503</td>\n",
       "      <td>-0.079657</td>\n",
       "      <td>0.032748</td>\n",
       "      <td>0.004569</td>\n",
       "      <td>0.027778</td>\n",
       "      <td>-0.498399</td>\n",
       "      <td>-0.557841</td>\n",
       "      <td>-0.286770</td>\n",
       "      <td>-0.389548</td>\n",
       "      <td>0.860591</td>\n",
       "      <td>1.000000</td>\n",
       "      <td>-0.232407</td>\n",
       "      <td>-0.192424</td>\n",
       "    </tr>\n",
       "    <tr>\n",
       "      <th>Rain Today</th>\n",
       "      <td>0.054702</td>\n",
       "      <td>-0.226001</td>\n",
       "      <td>0.501516</td>\n",
       "      <td>0.151605</td>\n",
       "      <td>0.099084</td>\n",
       "      <td>0.077913</td>\n",
       "      <td>0.349752</td>\n",
       "      <td>0.373596</td>\n",
       "      <td>-0.187547</td>\n",
       "      <td>-0.104862</td>\n",
       "      <td>-0.096357</td>\n",
       "      <td>-0.232407</td>\n",
       "      <td>1.000000</td>\n",
       "      <td>0.306555</td>\n",
       "    </tr>\n",
       "    <tr>\n",
       "      <th>Rain Tomorrow</th>\n",
       "      <td>0.083936</td>\n",
       "      <td>-0.159237</td>\n",
       "      <td>0.239032</td>\n",
       "      <td>0.234010</td>\n",
       "      <td>0.090995</td>\n",
       "      <td>0.087817</td>\n",
       "      <td>0.257161</td>\n",
       "      <td>0.446160</td>\n",
       "      <td>-0.246371</td>\n",
       "      <td>-0.226031</td>\n",
       "      <td>-0.025691</td>\n",
       "      <td>-0.192424</td>\n",
       "      <td>0.306555</td>\n",
       "      <td>1.000000</td>\n",
       "    </tr>\n",
       "  </tbody>\n",
       "</table>\n",
       "</div>"
      ],
      "text/plain": [
       "                  MinTemp   MaxTemp  Rainfall  Wind Gust Speed  \\\n",
       "MinTemp          1.000000  0.736555  0.103938         0.177415   \n",
       "MaxTemp          0.736555  1.000000 -0.074992         0.067615   \n",
       "Rainfall         0.103938 -0.074992  1.000000         0.133659   \n",
       "Wind Gust Speed  0.177415  0.067615  0.133659         1.000000   \n",
       "Wind Speed 9am   0.175064  0.014450  0.087338         0.605303   \n",
       "Wind Speed 3pm   0.175173  0.050300  0.057887         0.686307   \n",
       "Humidity 9am    -0.232899 -0.504110  0.224405        -0.215070   \n",
       "Humidity 3pm     0.006089 -0.508855  0.255755        -0.026327   \n",
       "Pressure 9am    -0.450970 -0.332061 -0.168154        -0.458744   \n",
       "Pressure 3pm    -0.461292 -0.427167 -0.126534        -0.413749   \n",
       "Temp 9am         0.901821  0.887210  0.011192         0.150150   \n",
       "Temp 3pm         0.708906  0.984503 -0.079657         0.032748   \n",
       "Rain Today       0.054702 -0.226001  0.501516         0.151605   \n",
       "Rain Tomorrow    0.083936 -0.159237  0.239032         0.234010   \n",
       "\n",
       "                 Wind Speed 9am  Wind Speed 3pm  Humidity 9am  Humidity 3pm  \\\n",
       "MinTemp                0.175064        0.175173     -0.232899      0.006089   \n",
       "MaxTemp                0.014450        0.050300     -0.504110     -0.508855   \n",
       "Rainfall               0.087338        0.057887      0.224405      0.255755   \n",
       "Wind Gust Speed        0.605303        0.686307     -0.215070     -0.026327   \n",
       "Wind Speed 9am         1.000000        0.519547     -0.270858     -0.031614   \n",
       "Wind Speed 3pm         0.519547        1.000000     -0.145525      0.016432   \n",
       "Humidity 9am          -0.270858       -0.145525      1.000000      0.666949   \n",
       "Humidity 3pm          -0.031614        0.016432      0.666949      1.000000   \n",
       "Pressure 9am          -0.228743       -0.296351      0.139442     -0.027544   \n",
       "Pressure 3pm          -0.175817       -0.255439      0.186858      0.051997   \n",
       "Temp 9am               0.128545        0.163030     -0.471354     -0.221019   \n",
       "Temp 3pm               0.004569        0.027778     -0.498399     -0.557841   \n",
       "Rain Today             0.099084        0.077913      0.349752      0.373596   \n",
       "Rain Tomorrow          0.090995        0.087817      0.257161      0.446160   \n",
       "\n",
       "                 Pressure 9am  Pressure 3pm  Temp 9am  Temp 3pm  Rain Today  \\\n",
       "MinTemp             -0.450970     -0.461292  0.901821  0.708906    0.054702   \n",
       "MaxTemp             -0.332061     -0.427167  0.887210  0.984503   -0.226001   \n",
       "Rainfall            -0.168154     -0.126534  0.011192 -0.079657    0.501516   \n",
       "Wind Gust Speed     -0.458744     -0.413749  0.150150  0.032748    0.151605   \n",
       "Wind Speed 9am      -0.228743     -0.175817  0.128545  0.004569    0.099084   \n",
       "Wind Speed 3pm      -0.296351     -0.255439  0.163030  0.027778    0.077913   \n",
       "Humidity 9am         0.139442      0.186858 -0.471354 -0.498399    0.349752   \n",
       "Humidity 3pm        -0.027544      0.051997 -0.221019 -0.557841    0.373596   \n",
       "Pressure 9am         1.000000      0.961326 -0.422556 -0.286770   -0.187547   \n",
       "Pressure 3pm         0.961326      1.000000 -0.470187 -0.389548   -0.104862   \n",
       "Temp 9am            -0.422556     -0.470187  1.000000  0.860591   -0.096357   \n",
       "Temp 3pm            -0.286770     -0.389548  0.860591  1.000000   -0.232407   \n",
       "Rain Today          -0.187547     -0.104862 -0.096357 -0.232407    1.000000   \n",
       "Rain Tomorrow       -0.246371     -0.226031 -0.025691 -0.192424    0.306555   \n",
       "\n",
       "                 Rain Tomorrow  \n",
       "MinTemp               0.083936  \n",
       "MaxTemp              -0.159237  \n",
       "Rainfall              0.239032  \n",
       "Wind Gust Speed       0.234010  \n",
       "Wind Speed 9am        0.090995  \n",
       "Wind Speed 3pm        0.087817  \n",
       "Humidity 9am          0.257161  \n",
       "Humidity 3pm          0.446160  \n",
       "Pressure 9am         -0.246371  \n",
       "Pressure 3pm         -0.226031  \n",
       "Temp 9am             -0.025691  \n",
       "Temp 3pm             -0.192424  \n",
       "Rain Today            0.306555  \n",
       "Rain Tomorrow         1.000000  "
      ]
     },
     "execution_count": 7,
     "metadata": {},
     "output_type": "execute_result"
    }
   ],
   "source": [
    "data.corr()"
   ]
  },
  {
   "cell_type": "markdown",
   "metadata": {},
   "source": [
    "### Categorical features in Dataset:"
   ]
  },
  {
   "cell_type": "code",
   "execution_count": 8,
   "metadata": {},
   "outputs": [
    {
     "name": "stdout",
     "output_type": "stream",
     "text": [
      "Number of Categorical Features: 0\n",
      "Categorical Features:  []\n"
     ]
    }
   ],
   "source": [
    "categorical_features = [column_name for column_name in data.columns if data[column_name].dtype == 'O']\n",
    "print(\"Number of Categorical Features: {}\".format(len(categorical_features)))\n",
    "print(\"Categorical Features: \",categorical_features)"
   ]
  },
  {
   "cell_type": "markdown",
   "metadata": {},
   "source": [
    "### Numerical Features in Dataset:"
   ]
  },
  {
   "cell_type": "code",
   "execution_count": 9,
   "metadata": {},
   "outputs": [
    {
     "name": "stdout",
     "output_type": "stream",
     "text": [
      "Number of Numerical Features: 14\n",
      "Numerical Features:  ['MinTemp', 'MaxTemp', 'Rainfall', 'Wind Gust Speed', 'Wind Speed 9am', 'Wind Speed 3pm', 'Humidity 9am', 'Humidity 3pm', 'Pressure 9am', 'Pressure 3pm', 'Temp 9am', 'Temp 3pm', 'Rain Today', 'Rain Tomorrow']\n"
     ]
    }
   ],
   "source": [
    "numerical_features = [column_name for column_name in data.columns if data[column_name].dtype != 'O']\n",
    "print(\"Number of Numerical Features: {}\".format(len(numerical_features)))\n",
    "print(\"Numerical Features: \",numerical_features)"
   ]
  },
  {
   "cell_type": "markdown",
   "metadata": {},
   "source": [
    " ### Handling Missing values in Numerical features:"
   ]
  },
  {
   "cell_type": "code",
   "execution_count": 10,
   "metadata": {},
   "outputs": [
    {
     "data": {
      "text/plain": [
       "MinTemp             1485\n",
       "MaxTemp             1261\n",
       "Rainfall            3261\n",
       "Wind Gust Speed    10263\n",
       "Wind Speed 9am      1767\n",
       "Wind Speed 3pm      3062\n",
       "Humidity 9am        2654\n",
       "Humidity 3pm        4507\n",
       "Pressure 9am       15065\n",
       "Pressure 3pm       15028\n",
       "Temp 9am            1767\n",
       "Temp 3pm            3609\n",
       "Rain Today             0\n",
       "Rain Tomorrow       3267\n",
       "dtype: int64"
      ]
     },
     "execution_count": 10,
     "metadata": {},
     "output_type": "execute_result"
    }
   ],
   "source": [
    "numerical_features = [column_name for column_name in data.columns if data[column_name].dtype != 'O']\n",
    "data[numerical_features].isnull().sum()"
   ]
  },
  {
   "cell_type": "code",
   "execution_count": 11,
   "metadata": {},
   "outputs": [
    {
     "data": {
      "text/plain": [
       "[0, 1, 2, 3, 4, 5, 6, 7, 8, 9, 10, 11, 13]"
      ]
     },
     "execution_count": 11,
     "metadata": {},
     "output_type": "execute_result"
    }
   ],
   "source": [
    "## finding all columns that have nan:\n",
    "\n",
    "droping_list_all = []\n",
    "for j in range(0,14):\n",
    "    if not data.iloc[:, j].notnull().all():\n",
    "        droping_list_all.append(j)        \n",
    "        #print(df.iloc[:,j].unique())\n",
    "droping_list_all"
   ]
  },
  {
   "cell_type": "code",
   "execution_count": 12,
   "metadata": {},
   "outputs": [],
   "source": [
    "# filling nan with mean in any columns\n",
    "# for j in range(0,14):        \n",
    "#         data.iloc[:,j] = data.iloc[:,j].fillna(data.iloc[:,j].mean())\n",
    "# # data.fillna(method='ffill')"
   ]
  },
  {
   "cell_type": "code",
   "execution_count": 13,
   "metadata": {},
   "outputs": [],
   "source": [
    "# Droping the samples with issing values\n",
    "new_data = data.dropna(axis=0)"
   ]
  },
  {
   "cell_type": "code",
   "execution_count": 14,
   "metadata": {},
   "outputs": [
    {
     "data": {
      "text/plain": [
       "0.0    93403\n",
       "1.0    26187\n",
       "Name: Rain Tomorrow, dtype: int64"
      ]
     },
     "execution_count": 14,
     "metadata": {},
     "output_type": "execute_result"
    }
   ],
   "source": [
    "new_data['Rain Tomorrow'].value_counts()"
   ]
  },
  {
   "cell_type": "code",
   "execution_count": 15,
   "metadata": {},
   "outputs": [
    {
     "data": {
      "text/plain": [
       "MinTemp            0\n",
       "MaxTemp            0\n",
       "Rainfall           0\n",
       "Wind Gust Speed    0\n",
       "Wind Speed 9am     0\n",
       "Wind Speed 3pm     0\n",
       "Humidity 9am       0\n",
       "Humidity 3pm       0\n",
       "Pressure 9am       0\n",
       "Pressure 3pm       0\n",
       "Temp 9am           0\n",
       "Temp 3pm           0\n",
       "Rain Today         0\n",
       "Rain Tomorrow      0\n",
       "dtype: int64"
      ]
     },
     "execution_count": 15,
     "metadata": {},
     "output_type": "execute_result"
    }
   ],
   "source": [
    "# check to make sure that there are not more any nan\n",
    "new_data.isnull().sum()"
   ]
  },
  {
   "cell_type": "code",
   "execution_count": null,
   "metadata": {},
   "outputs": [],
   "source": []
  },
  {
   "cell_type": "code",
   "execution_count": 16,
   "metadata": {},
   "outputs": [
    {
     "data": {
      "text/plain": [
       "<AxesSubplot:>"
      ]
     },
     "execution_count": 16,
     "metadata": {},
     "output_type": "execute_result"
    },
    {
     "data": {
      "image/png": "[encoded data removed]",
      "text/plain": [
       "<Figure size 1080x1080 with 2 Axes>"
      ]
     },
     "metadata": {
      "needs_background": "light"
     },
     "output_type": "display_data"
    }
   ],
   "source": [
    "plt.figure(figsize = (15,15))\n",
    "sb.heatmap(data.corr(), annot=True, cmap=\"RdBu_r\", vmin=0.1, vmax=1)"
   ]
  },
  {
   "cell_type": "code",
   "execution_count": 17,
   "metadata": {},
   "outputs": [
    {
     "data": {
      "text/html": [
       "<div>\n",
       "<style scoped>\n",
       "    .dataframe tbody tr th:only-of-type {\n",
       "        vertical-align: middle;\n",
       "    }\n",
       "\n",
       "    .dataframe tbody tr th {\n",
       "        vertical-align: top;\n",
       "    }\n",
       "\n",
       "    .dataframe thead th {\n",
       "        text-align: right;\n",
       "    }\n",
       "</style>\n",
       "<table border=\"1\" class=\"dataframe\">\n",
       "  <thead>\n",
       "    <tr style=\"text-align: right;\">\n",
       "      <th></th>\n",
       "      <th>MinTemp</th>\n",
       "      <th>MaxTemp</th>\n",
       "      <th>Rainfall</th>\n",
       "      <th>Wind Gust Speed</th>\n",
       "      <th>Wind Speed 9am</th>\n",
       "      <th>Wind Speed 3pm</th>\n",
       "      <th>Humidity 9am</th>\n",
       "      <th>Humidity 3pm</th>\n",
       "      <th>Pressure 9am</th>\n",
       "      <th>Pressure 3pm</th>\n",
       "      <th>Temp 9am</th>\n",
       "      <th>Temp 3pm</th>\n",
       "      <th>Rain Today</th>\n",
       "      <th>Rain Tomorrow</th>\n",
       "    </tr>\n",
       "  </thead>\n",
       "  <tbody>\n",
       "    <tr>\n",
       "      <th>count</th>\n",
       "      <td>119590.000000</td>\n",
       "      <td>119590.000000</td>\n",
       "      <td>119590.000000</td>\n",
       "      <td>119590.000000</td>\n",
       "      <td>119590.000000</td>\n",
       "      <td>119590.000000</td>\n",
       "      <td>119590.000000</td>\n",
       "      <td>119590.000000</td>\n",
       "      <td>119590.000000</td>\n",
       "      <td>119590.000000</td>\n",
       "      <td>119590.000000</td>\n",
       "      <td>119590.000000</td>\n",
       "      <td>119590.000000</td>\n",
       "      <td>119590.000000</td>\n",
       "    </tr>\n",
       "    <tr>\n",
       "      <th>mean</th>\n",
       "      <td>12.386547</td>\n",
       "      <td>23.485962</td>\n",
       "      <td>2.320947</td>\n",
       "      <td>40.107643</td>\n",
       "      <td>14.363818</td>\n",
       "      <td>19.082239</td>\n",
       "      <td>68.289782</td>\n",
       "      <td>50.866143</td>\n",
       "      <td>1017.655685</td>\n",
       "      <td>1015.252962</td>\n",
       "      <td>17.185827</td>\n",
       "      <td>21.978666</td>\n",
       "      <td>0.221055</td>\n",
       "      <td>0.218973</td>\n",
       "    </tr>\n",
       "    <tr>\n",
       "      <th>std</th>\n",
       "      <td>6.367537</td>\n",
       "      <td>6.986581</td>\n",
       "      <td>8.465116</td>\n",
       "      <td>13.479752</td>\n",
       "      <td>8.796346</td>\n",
       "      <td>8.675334</td>\n",
       "      <td>19.129275</td>\n",
       "      <td>20.691785</td>\n",
       "      <td>7.098486</td>\n",
       "      <td>7.019410</td>\n",
       "      <td>6.449422</td>\n",
       "      <td>6.832804</td>\n",
       "      <td>0.414959</td>\n",
       "      <td>0.413552</td>\n",
       "    </tr>\n",
       "    <tr>\n",
       "      <th>min</th>\n",
       "      <td>-8.200000</td>\n",
       "      <td>2.600000</td>\n",
       "      <td>0.000000</td>\n",
       "      <td>6.000000</td>\n",
       "      <td>0.000000</td>\n",
       "      <td>0.000000</td>\n",
       "      <td>0.000000</td>\n",
       "      <td>0.000000</td>\n",
       "      <td>980.500000</td>\n",
       "      <td>977.100000</td>\n",
       "      <td>-3.100000</td>\n",
       "      <td>1.700000</td>\n",
       "      <td>0.000000</td>\n",
       "      <td>0.000000</td>\n",
       "    </tr>\n",
       "    <tr>\n",
       "      <th>25%</th>\n",
       "      <td>7.700000</td>\n",
       "      <td>18.100000</td>\n",
       "      <td>0.000000</td>\n",
       "      <td>31.000000</td>\n",
       "      <td>7.000000</td>\n",
       "      <td>13.000000</td>\n",
       "      <td>56.000000</td>\n",
       "      <td>36.000000</td>\n",
       "      <td>1013.000000</td>\n",
       "      <td>1010.500000</td>\n",
       "      <td>12.400000</td>\n",
       "      <td>16.800000</td>\n",
       "      <td>0.000000</td>\n",
       "      <td>0.000000</td>\n",
       "    </tr>\n",
       "    <tr>\n",
       "      <th>50%</th>\n",
       "      <td>12.100000</td>\n",
       "      <td>22.900000</td>\n",
       "      <td>0.000000</td>\n",
       "      <td>39.000000</td>\n",
       "      <td>13.000000</td>\n",
       "      <td>19.000000</td>\n",
       "      <td>69.000000</td>\n",
       "      <td>51.000000</td>\n",
       "      <td>1017.600000</td>\n",
       "      <td>1015.200000</td>\n",
       "      <td>16.800000</td>\n",
       "      <td>21.400000</td>\n",
       "      <td>0.000000</td>\n",
       "      <td>0.000000</td>\n",
       "    </tr>\n",
       "    <tr>\n",
       "      <th>75%</th>\n",
       "      <td>17.000000</td>\n",
       "      <td>28.500000</td>\n",
       "      <td>0.600000</td>\n",
       "      <td>48.000000</td>\n",
       "      <td>20.000000</td>\n",
       "      <td>24.000000</td>\n",
       "      <td>82.000000</td>\n",
       "      <td>65.000000</td>\n",
       "      <td>1022.400000</td>\n",
       "      <td>1020.000000</td>\n",
       "      <td>21.800000</td>\n",
       "      <td>26.700000</td>\n",
       "      <td>0.000000</td>\n",
       "      <td>0.000000</td>\n",
       "    </tr>\n",
       "    <tr>\n",
       "      <th>max</th>\n",
       "      <td>33.900000</td>\n",
       "      <td>48.100000</td>\n",
       "      <td>367.600000</td>\n",
       "      <td>135.000000</td>\n",
       "      <td>87.000000</td>\n",
       "      <td>87.000000</td>\n",
       "      <td>100.000000</td>\n",
       "      <td>100.000000</td>\n",
       "      <td>1041.000000</td>\n",
       "      <td>1039.600000</td>\n",
       "      <td>40.200000</td>\n",
       "      <td>46.700000</td>\n",
       "      <td>1.000000</td>\n",
       "      <td>1.000000</td>\n",
       "    </tr>\n",
       "  </tbody>\n",
       "</table>\n",
       "</div>"
      ],
      "text/plain": [
       "             MinTemp        MaxTemp       Rainfall  Wind Gust Speed  \\\n",
       "count  119590.000000  119590.000000  119590.000000    119590.000000   \n",
       "mean       12.386547      23.485962       2.320947        40.107643   \n",
       "std         6.367537       6.986581       8.465116        13.479752   \n",
       "min        -8.200000       2.600000       0.000000         6.000000   \n",
       "25%         7.700000      18.100000       0.000000        31.000000   \n",
       "50%        12.100000      22.900000       0.000000        39.000000   \n",
       "75%        17.000000      28.500000       0.600000        48.000000   \n",
       "max        33.900000      48.100000     367.600000       135.000000   \n",
       "\n",
       "       Wind Speed 9am  Wind Speed 3pm   Humidity 9am   Humidity 3pm  \\\n",
       "count   119590.000000   119590.000000  119590.000000  119590.000000   \n",
       "mean        14.363818       19.082239      68.289782      50.866143   \n",
       "std          8.796346        8.675334      19.129275      20.691785   \n",
       "min          0.000000        0.000000       0.000000       0.000000   \n",
       "25%          7.000000       13.000000      56.000000      36.000000   \n",
       "50%         13.000000       19.000000      69.000000      51.000000   \n",
       "75%         20.000000       24.000000      82.000000      65.000000   \n",
       "max         87.000000       87.000000     100.000000     100.000000   \n",
       "\n",
       "        Pressure 9am   Pressure 3pm       Temp 9am       Temp 3pm  \\\n",
       "count  119590.000000  119590.000000  119590.000000  119590.000000   \n",
       "mean     1017.655685    1015.252962      17.185827      21.978666   \n",
       "std         7.098486       7.019410       6.449422       6.832804   \n",
       "min       980.500000     977.100000      -3.100000       1.700000   \n",
       "25%      1013.000000    1010.500000      12.400000      16.800000   \n",
       "50%      1017.600000    1015.200000      16.800000      21.400000   \n",
       "75%      1022.400000    1020.000000      21.800000      26.700000   \n",
       "max      1041.000000    1039.600000      40.200000      46.700000   \n",
       "\n",
       "          Rain Today  Rain Tomorrow  \n",
       "count  119590.000000  119590.000000  \n",
       "mean        0.221055       0.218973  \n",
       "std         0.414959       0.413552  \n",
       "min         0.000000       0.000000  \n",
       "25%         0.000000       0.000000  \n",
       "50%         0.000000       0.000000  \n",
       "75%         0.000000       0.000000  \n",
       "max         1.000000       1.000000  "
      ]
     },
     "execution_count": 17,
     "metadata": {},
     "output_type": "execute_result"
    }
   ],
   "source": [
    "new_data.describe()"
   ]
  },
  {
   "cell_type": "code",
   "execution_count": 18,
   "metadata": {},
   "outputs": [
    {
     "data": {
      "text/html": [
       "<div>\n",
       "<style scoped>\n",
       "    .dataframe tbody tr th:only-of-type {\n",
       "        vertical-align: middle;\n",
       "    }\n",
       "\n",
       "    .dataframe tbody tr th {\n",
       "        vertical-align: top;\n",
       "    }\n",
       "\n",
       "    .dataframe thead th {\n",
       "        text-align: right;\n",
       "    }\n",
       "</style>\n",
       "<table border=\"1\" class=\"dataframe\">\n",
       "  <thead>\n",
       "    <tr style=\"text-align: right;\">\n",
       "      <th></th>\n",
       "      <th>MinTemp</th>\n",
       "      <th>MaxTemp</th>\n",
       "      <th>Rainfall</th>\n",
       "      <th>Wind Gust Speed</th>\n",
       "      <th>Wind Speed 9am</th>\n",
       "      <th>Wind Speed 3pm</th>\n",
       "      <th>Humidity 9am</th>\n",
       "      <th>Humidity 3pm</th>\n",
       "      <th>Pressure 9am</th>\n",
       "      <th>Pressure 3pm</th>\n",
       "      <th>Temp 9am</th>\n",
       "      <th>Temp 3pm</th>\n",
       "      <th>Rain Today</th>\n",
       "      <th>Rain Tomorrow</th>\n",
       "    </tr>\n",
       "  </thead>\n",
       "  <tbody>\n",
       "    <tr>\n",
       "      <th>MinTemp</th>\n",
       "      <td>1.000000</td>\n",
       "      <td>0.730847</td>\n",
       "      <td>0.111056</td>\n",
       "      <td>0.196271</td>\n",
       "      <td>0.202151</td>\n",
       "      <td>0.174924</td>\n",
       "      <td>-0.246198</td>\n",
       "      <td>0.022010</td>\n",
       "      <td>-0.452259</td>\n",
       "      <td>-0.462918</td>\n",
       "      <td>0.903063</td>\n",
       "      <td>0.705664</td>\n",
       "      <td>0.059705</td>\n",
       "      <td>0.088019</td>\n",
       "    </tr>\n",
       "    <tr>\n",
       "      <th>MaxTemp</th>\n",
       "      <td>0.730847</td>\n",
       "      <td>1.000000</td>\n",
       "      <td>-0.069919</td>\n",
       "      <td>0.088960</td>\n",
       "      <td>0.031689</td>\n",
       "      <td>0.043566</td>\n",
       "      <td>-0.524089</td>\n",
       "      <td>-0.498725</td>\n",
       "      <td>-0.329495</td>\n",
       "      <td>-0.423235</td>\n",
       "      <td>0.882847</td>\n",
       "      <td>0.984664</td>\n",
       "      <td>-0.230526</td>\n",
       "      <td>-0.160257</td>\n",
       "    </tr>\n",
       "    <tr>\n",
       "      <th>Rainfall</th>\n",
       "      <td>0.111056</td>\n",
       "      <td>-0.069919</td>\n",
       "      <td>1.000000</td>\n",
       "      <td>0.132181</td>\n",
       "      <td>0.088755</td>\n",
       "      <td>0.062222</td>\n",
       "      <td>0.225369</td>\n",
       "      <td>0.256475</td>\n",
       "      <td>-0.170048</td>\n",
       "      <td>-0.129840</td>\n",
       "      <td>0.016859</td>\n",
       "      <td>-0.073976</td>\n",
       "      <td>0.498260</td>\n",
       "      <td>0.237833</td>\n",
       "    </tr>\n",
       "    <tr>\n",
       "      <th>Wind Gust Speed</th>\n",
       "      <td>0.196271</td>\n",
       "      <td>0.088960</td>\n",
       "      <td>0.132181</td>\n",
       "      <td>1.000000</td>\n",
       "      <td>0.601607</td>\n",
       "      <td>0.689196</td>\n",
       "      <td>-0.219812</td>\n",
       "      <td>-0.035465</td>\n",
       "      <td>-0.458368</td>\n",
       "      <td>-0.414285</td>\n",
       "      <td>0.166590</td>\n",
       "      <td>0.049537</td>\n",
       "      <td>0.156059</td>\n",
       "      <td>0.236001</td>\n",
       "    </tr>\n",
       "    <tr>\n",
       "      <th>Wind Speed 9am</th>\n",
       "      <td>0.202151</td>\n",
       "      <td>0.031689</td>\n",
       "      <td>0.088755</td>\n",
       "      <td>0.601607</td>\n",
       "      <td>1.000000</td>\n",
       "      <td>0.514095</td>\n",
       "      <td>-0.269313</td>\n",
       "      <td>-0.029133</td>\n",
       "      <td>-0.230349</td>\n",
       "      <td>-0.179586</td>\n",
       "      <td>0.146655</td>\n",
       "      <td>0.015775</td>\n",
       "      <td>0.104508</td>\n",
       "      <td>0.095100</td>\n",
       "    </tr>\n",
       "    <tr>\n",
       "      <th>Wind Speed 3pm</th>\n",
       "      <td>0.174924</td>\n",
       "      <td>0.043566</td>\n",
       "      <td>0.062222</td>\n",
       "      <td>0.689196</td>\n",
       "      <td>0.514095</td>\n",
       "      <td>1.000000</td>\n",
       "      <td>-0.132539</td>\n",
       "      <td>0.032595</td>\n",
       "      <td>-0.300103</td>\n",
       "      <td>-0.261171</td>\n",
       "      <td>0.160787</td>\n",
       "      <td>0.017175</td>\n",
       "      <td>0.088558</td>\n",
       "      <td>0.093832</td>\n",
       "    </tr>\n",
       "    <tr>\n",
       "      <th>Humidity 9am</th>\n",
       "      <td>-0.246198</td>\n",
       "      <td>-0.524089</td>\n",
       "      <td>0.225369</td>\n",
       "      <td>-0.219812</td>\n",
       "      <td>-0.269313</td>\n",
       "      <td>-0.132539</td>\n",
       "      <td>1.000000</td>\n",
       "      <td>0.675197</td>\n",
       "      <td>0.141992</td>\n",
       "      <td>0.189512</td>\n",
       "      <td>-0.483699</td>\n",
       "      <td>-0.515859</td>\n",
       "      <td>0.357774</td>\n",
       "      <td>0.261379</td>\n",
       "    </tr>\n",
       "    <tr>\n",
       "      <th>Humidity 3pm</th>\n",
       "      <td>0.022010</td>\n",
       "      <td>-0.498725</td>\n",
       "      <td>0.256475</td>\n",
       "      <td>-0.035465</td>\n",
       "      <td>-0.029133</td>\n",
       "      <td>0.032595</td>\n",
       "      <td>0.675197</td>\n",
       "      <td>1.000000</td>\n",
       "      <td>-0.027530</td>\n",
       "      <td>0.051399</td>\n",
       "      <td>-0.203843</td>\n",
       "      <td>-0.547731</td>\n",
       "      <td>0.382301</td>\n",
       "      <td>0.452645</td>\n",
       "    </tr>\n",
       "    <tr>\n",
       "      <th>Pressure 9am</th>\n",
       "      <td>-0.452259</td>\n",
       "      <td>-0.329495</td>\n",
       "      <td>-0.170048</td>\n",
       "      <td>-0.458368</td>\n",
       "      <td>-0.230349</td>\n",
       "      <td>-0.300103</td>\n",
       "      <td>0.141992</td>\n",
       "      <td>-0.027530</td>\n",
       "      <td>1.000000</td>\n",
       "      <td>0.961637</td>\n",
       "      <td>-0.420934</td>\n",
       "      <td>-0.287466</td>\n",
       "      <td>-0.192796</td>\n",
       "      <td>-0.246457</td>\n",
       "    </tr>\n",
       "    <tr>\n",
       "      <th>Pressure 3pm</th>\n",
       "      <td>-0.462918</td>\n",
       "      <td>-0.423235</td>\n",
       "      <td>-0.129840</td>\n",
       "      <td>-0.414285</td>\n",
       "      <td>-0.179586</td>\n",
       "      <td>-0.261171</td>\n",
       "      <td>0.189512</td>\n",
       "      <td>0.051399</td>\n",
       "      <td>0.961637</td>\n",
       "      <td>1.000000</td>\n",
       "      <td>-0.468120</td>\n",
       "      <td>-0.390239</td>\n",
       "      <td>-0.110973</td>\n",
       "      <td>-0.228156</td>\n",
       "    </tr>\n",
       "    <tr>\n",
       "      <th>Temp 9am</th>\n",
       "      <td>0.903063</td>\n",
       "      <td>0.882847</td>\n",
       "      <td>0.016859</td>\n",
       "      <td>0.166590</td>\n",
       "      <td>0.146655</td>\n",
       "      <td>0.160787</td>\n",
       "      <td>-0.483699</td>\n",
       "      <td>-0.203843</td>\n",
       "      <td>-0.420934</td>\n",
       "      <td>-0.468120</td>\n",
       "      <td>1.000000</td>\n",
       "      <td>0.857543</td>\n",
       "      <td>-0.095368</td>\n",
       "      <td>-0.023738</td>\n",
       "    </tr>\n",
       "    <tr>\n",
       "      <th>Temp 3pm</th>\n",
       "      <td>0.705664</td>\n",
       "      <td>0.984664</td>\n",
       "      <td>-0.073976</td>\n",
       "      <td>0.049537</td>\n",
       "      <td>0.015775</td>\n",
       "      <td>0.017175</td>\n",
       "      <td>-0.515859</td>\n",
       "      <td>-0.547731</td>\n",
       "      <td>-0.287466</td>\n",
       "      <td>-0.390239</td>\n",
       "      <td>0.857543</td>\n",
       "      <td>1.000000</td>\n",
       "      <td>-0.237029</td>\n",
       "      <td>-0.195060</td>\n",
       "    </tr>\n",
       "    <tr>\n",
       "      <th>Rain Today</th>\n",
       "      <td>0.059705</td>\n",
       "      <td>-0.230526</td>\n",
       "      <td>0.498260</td>\n",
       "      <td>0.156059</td>\n",
       "      <td>0.104508</td>\n",
       "      <td>0.088558</td>\n",
       "      <td>0.357774</td>\n",
       "      <td>0.382301</td>\n",
       "      <td>-0.192796</td>\n",
       "      <td>-0.110973</td>\n",
       "      <td>-0.095368</td>\n",
       "      <td>-0.237029</td>\n",
       "      <td>1.000000</td>\n",
       "      <td>0.313718</td>\n",
       "    </tr>\n",
       "    <tr>\n",
       "      <th>Rain Tomorrow</th>\n",
       "      <td>0.088019</td>\n",
       "      <td>-0.160257</td>\n",
       "      <td>0.237833</td>\n",
       "      <td>0.236001</td>\n",
       "      <td>0.095100</td>\n",
       "      <td>0.093832</td>\n",
       "      <td>0.261379</td>\n",
       "      <td>0.452645</td>\n",
       "      <td>-0.246457</td>\n",
       "      <td>-0.228156</td>\n",
       "      <td>-0.023738</td>\n",
       "      <td>-0.195060</td>\n",
       "      <td>0.313718</td>\n",
       "      <td>1.000000</td>\n",
       "    </tr>\n",
       "  </tbody>\n",
       "</table>\n",
       "</div>"
      ],
      "text/plain": [
       "                  MinTemp   MaxTemp  Rainfall  Wind Gust Speed  \\\n",
       "MinTemp          1.000000  0.730847  0.111056         0.196271   \n",
       "MaxTemp          0.730847  1.000000 -0.069919         0.088960   \n",
       "Rainfall         0.111056 -0.069919  1.000000         0.132181   \n",
       "Wind Gust Speed  0.196271  0.088960  0.132181         1.000000   \n",
       "Wind Speed 9am   0.202151  0.031689  0.088755         0.601607   \n",
       "Wind Speed 3pm   0.174924  0.043566  0.062222         0.689196   \n",
       "Humidity 9am    -0.246198 -0.524089  0.225369        -0.219812   \n",
       "Humidity 3pm     0.022010 -0.498725  0.256475        -0.035465   \n",
       "Pressure 9am    -0.452259 -0.329495 -0.170048        -0.458368   \n",
       "Pressure 3pm    -0.462918 -0.423235 -0.129840        -0.414285   \n",
       "Temp 9am         0.903063  0.882847  0.016859         0.166590   \n",
       "Temp 3pm         0.705664  0.984664 -0.073976         0.049537   \n",
       "Rain Today       0.059705 -0.230526  0.498260         0.156059   \n",
       "Rain Tomorrow    0.088019 -0.160257  0.237833         0.236001   \n",
       "\n",
       "                 Wind Speed 9am  Wind Speed 3pm  Humidity 9am  Humidity 3pm  \\\n",
       "MinTemp                0.202151        0.174924     -0.246198      0.022010   \n",
       "MaxTemp                0.031689        0.043566     -0.524089     -0.498725   \n",
       "Rainfall               0.088755        0.062222      0.225369      0.256475   \n",
       "Wind Gust Speed        0.601607        0.689196     -0.219812     -0.035465   \n",
       "Wind Speed 9am         1.000000        0.514095     -0.269313     -0.029133   \n",
       "Wind Speed 3pm         0.514095        1.000000     -0.132539      0.032595   \n",
       "Humidity 9am          -0.269313       -0.132539      1.000000      0.675197   \n",
       "Humidity 3pm          -0.029133        0.032595      0.675197      1.000000   \n",
       "Pressure 9am          -0.230349       -0.300103      0.141992     -0.027530   \n",
       "Pressure 3pm          -0.179586       -0.261171      0.189512      0.051399   \n",
       "Temp 9am               0.146655        0.160787     -0.483699     -0.203843   \n",
       "Temp 3pm               0.015775        0.017175     -0.515859     -0.547731   \n",
       "Rain Today             0.104508        0.088558      0.357774      0.382301   \n",
       "Rain Tomorrow          0.095100        0.093832      0.261379      0.452645   \n",
       "\n",
       "                 Pressure 9am  Pressure 3pm  Temp 9am  Temp 3pm  Rain Today  \\\n",
       "MinTemp             -0.452259     -0.462918  0.903063  0.705664    0.059705   \n",
       "MaxTemp             -0.329495     -0.423235  0.882847  0.984664   -0.230526   \n",
       "Rainfall            -0.170048     -0.129840  0.016859 -0.073976    0.498260   \n",
       "Wind Gust Speed     -0.458368     -0.414285  0.166590  0.049537    0.156059   \n",
       "Wind Speed 9am      -0.230349     -0.179586  0.146655  0.015775    0.104508   \n",
       "Wind Speed 3pm      -0.300103     -0.261171  0.160787  0.017175    0.088558   \n",
       "Humidity 9am         0.141992      0.189512 -0.483699 -0.515859    0.357774   \n",
       "Humidity 3pm        -0.027530      0.051399 -0.203843 -0.547731    0.382301   \n",
       "Pressure 9am         1.000000      0.961637 -0.420934 -0.287466   -0.192796   \n",
       "Pressure 3pm         0.961637      1.000000 -0.468120 -0.390239   -0.110973   \n",
       "Temp 9am            -0.420934     -0.468120  1.000000  0.857543   -0.095368   \n",
       "Temp 3pm            -0.287466     -0.390239  0.857543  1.000000   -0.237029   \n",
       "Rain Today          -0.192796     -0.110973 -0.095368 -0.237029    1.000000   \n",
       "Rain Tomorrow       -0.246457     -0.228156 -0.023738 -0.195060    0.313718   \n",
       "\n",
       "                 Rain Tomorrow  \n",
       "MinTemp               0.088019  \n",
       "MaxTemp              -0.160257  \n",
       "Rainfall              0.237833  \n",
       "Wind Gust Speed       0.236001  \n",
       "Wind Speed 9am        0.095100  \n",
       "Wind Speed 3pm        0.093832  \n",
       "Humidity 9am          0.261379  \n",
       "Humidity 3pm          0.452645  \n",
       "Pressure 9am         -0.246457  \n",
       "Pressure 3pm         -0.228156  \n",
       "Temp 9am             -0.023738  \n",
       "Temp 3pm             -0.195060  \n",
       "Rain Today            0.313718  \n",
       "Rain Tomorrow         1.000000  "
      ]
     },
     "execution_count": 18,
     "metadata": {},
     "output_type": "execute_result"
    }
   ],
   "source": [
    "new_data.corr()"
   ]
  },
  {
   "cell_type": "code",
   "execution_count": 19,
   "metadata": {
    "scrolled": true
   },
   "outputs": [
    {
     "data": {
      "image/png": "[encoded data removed]",
      "text/plain": [
       "<Figure size 432x288 with 1 Axes>"
      ]
     },
     "metadata": {
      "needs_background": "light"
     },
     "output_type": "display_data"
    },
    {
     "data": {
      "image/png": "[encoded data removed]",
      "text/plain": [
       "<Figure size 432x288 with 1 Axes>"
      ]
     },
     "metadata": {
      "needs_background": "light"
     },
     "output_type": "display_data"
    },
    {
     "data": {
      "image/png": "[encoded data removed]",
      "text/plain": [
       "<Figure size 432x288 with 1 Axes>"
      ]
     },
     "metadata": {
      "needs_background": "light"
     },
     "output_type": "display_data"
    },
    {
     "data": {
      "image/png": "[encoded data removed]",
      "text/plain": [
       "<Figure size 432x288 with 1 Axes>"
      ]
     },
     "metadata": {
      "needs_background": "light"
     },
     "output_type": "display_data"
    },
    {
     "data": {
      "image/png": "[encoded data removed]",
      "text/plain": [
       "<Figure size 432x288 with 1 Axes>"
      ]
     },
     "metadata": {
      "needs_background": "light"
     },
     "output_type": "display_data"
    },
    {
     "data": {
      "image/png": "[encoded data removed]",
      "text/plain": [
       "<Figure size 432x288 with 1 Axes>"
      ]
     },
     "metadata": {
      "needs_background": "light"
     },
     "output_type": "display_data"
    },
    {
     "data": {
      "image/png": "[encoded data removed]",
      "text/plain": [
       "<Figure size 432x288 with 1 Axes>"
      ]
     },
     "metadata": {
      "needs_background": "light"
     },
     "output_type": "display_data"
    },
    {
     "data": {
      "image/png": "[encoded data removed]",
      "text/plain": [
       "<Figure size 432x288 with 1 Axes>"
      ]
     },
     "metadata": {
      "needs_background": "light"
     },
     "output_type": "display_data"
    },
    {
     "data": {
      "image/png": "[encoded data removed]",
      "text/plain": [
       "<Figure size 432x288 with 1 Axes>"
      ]
     },
     "metadata": {
      "needs_background": "light"
     },
     "output_type": "display_data"
    },
    {
     "data": {
      "image/png": "[encoded data removed]",
      "text/plain": [
       "<Figure size 432x288 with 1 Axes>"
      ]
     },
     "metadata": {
      "needs_background": "light"
     },
     "output_type": "display_data"
    },
    {
     "data": {
      "image/png": "[encoded data removed]",
      "text/plain": [
       "<Figure size 432x288 with 1 Axes>"
      ]
     },
     "metadata": {
      "needs_background": "light"
     },
     "output_type": "display_data"
    },
    {
     "data": {
      "image/png": "[encoded data removed]",
      "text/plain": [
       "<Figure size 432x288 with 1 Axes>"
      ]
     },
     "metadata": {
      "needs_background": "light"
     },
     "output_type": "display_data"
    },
    {
     "data": {
      "image/png": "[encoded data removed]",
      "text/plain": [
       "<Figure size 432x288 with 1 Axes>"
      ]
     },
     "metadata": {
      "needs_background": "light"
     },
     "output_type": "display_data"
    },
    {
     "data": {
      "image/png": "[encoded data removed]",
      "text/plain": [
       "<Figure size 432x288 with 1 Axes>"
      ]
     },
     "metadata": {
      "needs_background": "light"
     },
     "output_type": "display_data"
    }
   ],
   "source": [
    "for i in data.columns:\n",
    "    \n",
    "    plt.figure()\n",
    "    plt.title(f'{i}')\n",
    "    plt.hist(new_data[i])"
   ]
  },
  {
   "cell_type": "markdown",
   "metadata": {},
   "source": [
    "### Exploring target variable:"
   ]
  },
  {
   "cell_type": "code",
   "execution_count": 20,
   "metadata": {},
   "outputs": [
    {
     "data": {
      "text/plain": [
       "<AxesSubplot:>"
      ]
     },
     "execution_count": 20,
     "metadata": {},
     "output_type": "execute_result"
    },
    {
     "data": {
      "image/png": "[encoded data removed]",
      "text/plain": [
       "<Figure size 432x288 with 1 Axes>"
      ]
     },
     "metadata": {
      "needs_background": "light"
     },
     "output_type": "display_data"
    }
   ],
   "source": [
    "data['Rain Tomorrow'].value_counts().plot(kind='bar')"
   ]
  },
  {
   "cell_type": "code",
   "execution_count": 24,
   "metadata": {},
   "outputs": [
    {
     "data": {
      "text/plain": [
       "0.0    110316\n",
       "1.0     31877\n",
       "Name: Rain Tomorrow, dtype: int64"
      ]
     },
     "execution_count": 24,
     "metadata": {},
     "output_type": "execute_result"
    }
   ],
   "source": [
    "data['Rain Tomorrow'].value_counts()"
   ]
  },
  {
   "cell_type": "code",
   "execution_count": 25,
   "metadata": {},
   "outputs": [],
   "source": [
    "X = new_data.drop(['Rain Tomorrow'],axis=1)\n",
    "y = new_data['Rain Tomorrow']"
   ]
  },
  {
   "cell_type": "code",
   "execution_count": 39,
   "metadata": {},
   "outputs": [],
   "source": [
    "from sklearn.model_selection import train_test_split\n",
    "X_train, X_test, y_train, y_test = train_test_split(X, y, test_size=0.2, random_state=123) #, stratify=y"
   ]
  },
  {
   "cell_type": "code",
   "execution_count": 40,
   "metadata": {},
   "outputs": [
    {
     "data": {
      "text/plain": [
       "(119590, 14)"
      ]
     },
     "execution_count": 40,
     "metadata": {},
     "output_type": "execute_result"
    }
   ],
   "source": [
    "new_data.shape"
   ]
  },
  {
   "cell_type": "code",
   "execution_count": 41,
   "metadata": {},
   "outputs": [
    {
     "name": "stdout",
     "output_type": "stream",
     "text": [
      "Train error is: 0.18446358391169826\n",
      "Test error is: 0.1850071076176938\n"
     ]
    }
   ],
   "source": [
    "from sklearn.naive_bayes import GaussianNB\n",
    "gnb = GaussianNB()\n",
    "gnb.fit(X_train, y_train)\n",
    "\n",
    "from sklearn.metrics import accuracy_score\n",
    "train_error = 1-gnb.score(X_train, y_train)\n",
    "test_error = 1-gnb.score(X_test, y_test)\n",
    "print('Train error is:',train_error)\n",
    "print('Test error is:',test_error)"
   ]
  },
  {
   "cell_type": "code",
   "execution_count": 42,
   "metadata": {},
   "outputs": [
    {
     "name": "stdout",
     "output_type": "stream",
     "text": [
      "Confusion matrix for training set: \n",
      " [[66902  7813]\n",
      " [ 9835 11122]]\n",
      "Confusion matrix for testing set: \n",
      " [[16742  1946]\n",
      " [ 2479  2751]]\n"
     ]
    }
   ],
   "source": [
    "from sklearn.metrics import confusion_matrix\n",
    "\n",
    "print('Confusion matrix for training set:', '\\n', confusion_matrix(y_train, gnb.predict(X_train)))\n",
    "print('Confusion matrix for testing set:', '\\n', confusion_matrix(y_test, gnb.predict(X_test)))"
   ]
  },
  {
   "cell_type": "markdown",
   "metadata": {},
   "source": [
    "### feature scaling:"
   ]
  },
  {
   "cell_type": "code",
   "execution_count": 43,
   "metadata": {},
   "outputs": [
    {
     "name": "stdout",
     "output_type": "stream",
     "text": [
      "Train error is: 0.18446358391169826\n",
      "Test error is: 0.1860105359979931\n"
     ]
    }
   ],
   "source": [
    "from sklearn.preprocessing import StandardScaler\n",
    "scaler = StandardScaler()\n",
    "X_train_scaled = scaler.fit_transform(X_train)\n",
    "X_test_scaled = scaler.fit_transform(X_test)\n",
    "\n",
    "from sklearn.naive_bayes import GaussianNB\n",
    "gnb = GaussianNB()\n",
    "gnb.fit(X_train_scaled, y_train)\n",
    "\n",
    "from sklearn.metrics import accuracy_score\n",
    "train_error = 1-gnb.score(X_train_scaled, y_train)\n",
    "test_error = 1-gnb.score(X_test_scaled, y_test)\n",
    "print('Train error is:',train_error)\n",
    "print('Test error is:',test_error)"
   ]
  },
  {
   "cell_type": "code",
   "execution_count": 44,
   "metadata": {},
   "outputs": [
    {
     "name": "stdout",
     "output_type": "stream",
     "text": [
      "Confusion matrix for training set: \n",
      " [[66902  7813]\n",
      " [ 9835 11122]]\n",
      "Confusion matrix for testing set: \n",
      " [[16707  1981]\n",
      " [ 2468  2762]]\n"
     ]
    }
   ],
   "source": [
    "from sklearn.metrics import confusion_matrix\n",
    "\n",
    "print('Confusion matrix for training set:', '\\n', confusion_matrix(y_train, gnb.predict(X_train_scaled)))\n",
    "print('Confusion matrix for testing set:', '\\n', confusion_matrix(y_test, gnb.predict(X_test_scaled)))"
   ]
  },
  {
   "cell_type": "markdown",
   "metadata": {},
   "source": [
    "## Logistic Regression Classifier"
   ]
  },
  {
   "cell_type": "code",
   "execution_count": 45,
   "metadata": {},
   "outputs": [
    {
     "name": "stdout",
     "output_type": "stream",
     "text": [
      "Train error is: 0.15175809014131614\n",
      "Test error is: 0.15423530395518015\n",
      "Confusion matrix for training set: \n",
      " [[71023  3692]\n",
      " [10827 10130]]\n",
      "Confusion matrix for testing set: \n",
      " [[17730   958]\n",
      " [ 2731  2499]]\n"
     ]
    },
    {
     "name": "stderr",
     "output_type": "stream",
     "text": [
      "C:\\Users\\rezam\\anaconda3\\envs\\tf\\lib\\site-packages\\sklearn\\linear_model\\_logistic.py:764: ConvergenceWarning: lbfgs failed to converge (status=1):\n",
      "STOP: TOTAL NO. of ITERATIONS REACHED LIMIT.\n",
      "\n",
      "Increase the number of iterations (max_iter) or scale the data as shown in:\n",
      "    https://scikit-learn.org/stable/modules/preprocessing.html\n",
      "Please also refer to the documentation for alternative solver options:\n",
      "    https://scikit-learn.org/stable/modules/linear_model.html#logistic-regression\n",
      "  extra_warning_msg=_LOGISTIC_SOLVER_CONVERGENCE_MSG)\n"
     ]
    }
   ],
   "source": [
    "from sklearn.linear_model import LogisticRegression\n",
    "# clf = LogisticRegression(random_state=0, penalty='l1', solver='liblinear') # 'liblinear' and 'saga' handle L1 penalty\n",
    "clf = LogisticRegression(random_state=0, penalty='l2', solver='lbfgs') # 'newton-cg', 'lbfgs', 'sag' and 'saga' handle L2 or no penalty\n",
    "clf.fit(X_train, y_train)\n",
    "\n",
    "train_error = 1-clf.score(X_train, y_train)\n",
    "test_error = 1-clf.score(X_test, y_test)\n",
    "print('Train error is:',train_error)\n",
    "print('Test error is:',test_error)\n",
    "\n",
    "print('Confusion matrix for training set:', '\\n', confusion_matrix(y_train, clf.predict(X_train)))\n",
    "print('Confusion matrix for testing set:', '\\n', confusion_matrix(y_test, clf.predict(X_test)))"
   ]
  },
  {
   "cell_type": "code",
   "execution_count": null,
   "metadata": {},
   "outputs": [],
   "source": []
  },
  {
   "cell_type": "code",
   "execution_count": 49,
   "metadata": {},
   "outputs": [
    {
     "name": "stdout",
     "output_type": "stream",
     "text": [
      "[0.1308751  0.01489489 0.06069982 0.88064085 0.09533777 0.37239473\n",
      " 0.09099893 1.33302578 1.17157371 1.61580715 0.01494956 0.30223458\n",
      " 0.22362742]\n"
     ]
    },
    {
     "data": {
      "image/png": "[encoded data removed]",
      "text/plain": [
       "<Figure size 1080x288 with 1 Axes>"
      ]
     },
     "metadata": {
      "needs_background": "light"
     },
     "output_type": "display_data"
    }
   ],
   "source": [
    "coef = abs(clf.coef_[0])\n",
    "print (coef)\n",
    "\n",
    "plt.figure(figsize=(15,4))\n",
    "plt.bar(range(13), coef)\n",
    "plt.title('LogisticRegression Coefficients (not scaled)')\n",
    "plt.xticks(range(13), features)\n",
    "plt.ylabel('abs(Coefficents)')\n",
    "plt.show()"
   ]
  },
  {
   "cell_type": "markdown",
   "metadata": {},
   "source": [
    "### Scaled Logistic Regression"
   ]
  },
  {
   "cell_type": "code",
   "execution_count": 47,
   "metadata": {},
   "outputs": [
    {
     "data": {
      "text/plain": [
       "Index(['MinTemp', 'MaxTemp', 'Rainfall', 'Wind Gust Speed', 'Wind Speed 9am',\n",
       "       'Wind Speed 3pm', 'Humidity 9am', 'Humidity 3pm', 'Pressure 9am',\n",
       "       'Pressure 3pm', 'Temp 9am', 'Temp 3pm', 'Rain Today'],\n",
       "      dtype='object')"
      ]
     },
     "execution_count": 47,
     "metadata": {},
     "output_type": "execute_result"
    }
   ],
   "source": [
    "features = data.keys()\n",
    "features = features.drop(['Rain Tomorrow'])\n",
    "features"
   ]
  },
  {
   "cell_type": "code",
   "execution_count": 48,
   "metadata": {},
   "outputs": [
    {
     "name": "stdout",
     "output_type": "stream",
     "text": [
      "Train error is: 0.14899866209549295\n",
      "Test error is: 0.15034701898152014\n",
      "Confusion matrix for training set: \n",
      " [[70924  3791]\n",
      " [10464 10493]]\n",
      "Confusion matrix for testing set: \n",
      " [[17695   993]\n",
      " [ 2603  2627]]\n",
      "[0.1308751  0.01489489 0.06069982 0.88064085 0.09533777 0.37239473\n",
      " 0.09099893 1.33302578 1.17157371 1.61580715 0.01494956 0.30223458\n",
      " 0.22362742]\n"
     ]
    },
    {
     "data": {
      "image/png": "[encoded data removed]",
      "text/plain": [
       "<Figure size 1080x288 with 1 Axes>"
      ]
     },
     "metadata": {
      "needs_background": "light"
     },
     "output_type": "display_data"
    }
   ],
   "source": [
    "clf = LogisticRegression(random_state=0, penalty='l1', solver='liblinear') # 'liblinear' and 'saga' handle L1 penalty\n",
    "# clf = LogisticRegression(random_state=0, penalty='l2', solver='lbfgs') # 'newton-cg', 'lbfgs', 'sag' and 'saga' handle L2 or no penalty\n",
    "clf.fit(X_train_scaled, y_train)\n",
    "\n",
    "train_error = 1-clf.score(X_train_scaled, y_train)\n",
    "test_error = 1-clf.score(X_test_scaled, y_test)\n",
    "print('Train error is:',train_error)\n",
    "print('Test error is:',test_error)\n",
    "\n",
    "print('Confusion matrix for training set:', '\\n', confusion_matrix(y_train, clf.predict(X_train_scaled)))\n",
    "print('Confusion matrix for testing set:', '\\n', confusion_matrix(y_test, clf.predict(X_test_scaled)))\n",
    "\n",
    "coef = abs(clf.coef_[0])\n",
    "print (coef)\n",
    "\n",
    "plt.figure(figsize=(15,4))\n",
    "plt.bar(range(13), coef)\n",
    "plt.title('LogisticRegression Coefficients (scaled data set)')\n",
    "plt.xticks(range(13), features)\n",
    "plt.ylabel('abs(Coefficents)')\n",
    "plt.show()"
   ]
  },
  {
   "cell_type": "code",
   "execution_count": null,
   "metadata": {},
   "outputs": [],
   "source": []
  },
  {
   "cell_type": "code",
   "execution_count": null,
   "metadata": {},
   "outputs": [],
   "source": []
  }
 ],
 "metadata": {
  "kernelspec": {
   "display_name": "Python 3",
   "language": "python",
   "name": "python3"
  },
  "language_info": {
   "codemirror_mode": {
    "name": "ipython",
    "version": 3
   },
   "file_extension": ".py",
   "mimetype": "text/x-python",
   "name": "python",
   "nbconvert_exporter": "python",
   "pygments_lexer": "ipython3",
   "version": "3.8.5"
  }
 },
 "nbformat": 4,
 "nbformat_minor": 4
}
